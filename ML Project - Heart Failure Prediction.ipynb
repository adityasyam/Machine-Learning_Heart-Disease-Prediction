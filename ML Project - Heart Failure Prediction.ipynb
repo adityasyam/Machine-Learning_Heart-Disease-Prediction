{
 "cells": [
  {
   "cell_type": "markdown",
   "id": "bc8b3c35",
   "metadata": {},
   "source": [
    "# Project Question: Based on the observational data, how can we best predict heart disease?"
   ]
  },
  {
   "cell_type": "code",
   "execution_count": 1,
   "id": "181cbd4c",
   "metadata": {},
   "outputs": [
    {
     "ename": "FileNotFoundError",
     "evalue": "[Errno 2] No such file or directory: 'heart.csv'",
     "output_type": "error",
     "traceback": [
      "\u001b[0;31m---------------------------------------------------------------------------\u001b[0m",
      "\u001b[0;31mFileNotFoundError\u001b[0m                         Traceback (most recent call last)",
      "\u001b[0;32m<ipython-input-1-4e8f0b530763>\u001b[0m in \u001b[0;36m<module>\u001b[0;34m\u001b[0m\n\u001b[1;32m     13\u001b[0m \u001b[0;32mfrom\u001b[0m \u001b[0msklearn\u001b[0m \u001b[0;32mimport\u001b[0m \u001b[0mtree\u001b[0m\u001b[0;34m\u001b[0m\u001b[0;34m\u001b[0m\u001b[0m\n\u001b[1;32m     14\u001b[0m \u001b[0;34m\u001b[0m\u001b[0m\n\u001b[0;32m---> 15\u001b[0;31m \u001b[0mdf\u001b[0m \u001b[0;34m=\u001b[0m \u001b[0mpd\u001b[0m\u001b[0;34m.\u001b[0m\u001b[0mread_csv\u001b[0m\u001b[0;34m(\u001b[0m\u001b[0;34m'heart.csv'\u001b[0m\u001b[0;34m)\u001b[0m \u001b[0;31m#reading the heart dataset\u001b[0m\u001b[0;34m\u001b[0m\u001b[0;34m\u001b[0m\u001b[0m\n\u001b[0m\u001b[1;32m     16\u001b[0m \u001b[0mdf\u001b[0m\u001b[0;34m\u001b[0m\u001b[0;34m\u001b[0m\u001b[0m\n",
      "\u001b[0;32m~/opt/anaconda3/lib/python3.8/site-packages/pandas/io/parsers.py\u001b[0m in \u001b[0;36mread_csv\u001b[0;34m(filepath_or_buffer, sep, delimiter, header, names, index_col, usecols, squeeze, prefix, mangle_dupe_cols, dtype, engine, converters, true_values, false_values, skipinitialspace, skiprows, skipfooter, nrows, na_values, keep_default_na, na_filter, verbose, skip_blank_lines, parse_dates, infer_datetime_format, keep_date_col, date_parser, dayfirst, cache_dates, iterator, chunksize, compression, thousands, decimal, lineterminator, quotechar, quoting, doublequote, escapechar, comment, encoding, dialect, error_bad_lines, warn_bad_lines, delim_whitespace, low_memory, memory_map, float_precision, storage_options)\u001b[0m\n\u001b[1;32m    608\u001b[0m     \u001b[0mkwds\u001b[0m\u001b[0;34m.\u001b[0m\u001b[0mupdate\u001b[0m\u001b[0;34m(\u001b[0m\u001b[0mkwds_defaults\u001b[0m\u001b[0;34m)\u001b[0m\u001b[0;34m\u001b[0m\u001b[0;34m\u001b[0m\u001b[0m\n\u001b[1;32m    609\u001b[0m \u001b[0;34m\u001b[0m\u001b[0m\n\u001b[0;32m--> 610\u001b[0;31m     \u001b[0;32mreturn\u001b[0m \u001b[0m_read\u001b[0m\u001b[0;34m(\u001b[0m\u001b[0mfilepath_or_buffer\u001b[0m\u001b[0;34m,\u001b[0m \u001b[0mkwds\u001b[0m\u001b[0;34m)\u001b[0m\u001b[0;34m\u001b[0m\u001b[0;34m\u001b[0m\u001b[0m\n\u001b[0m\u001b[1;32m    611\u001b[0m \u001b[0;34m\u001b[0m\u001b[0m\n\u001b[1;32m    612\u001b[0m \u001b[0;34m\u001b[0m\u001b[0m\n",
      "\u001b[0;32m~/opt/anaconda3/lib/python3.8/site-packages/pandas/io/parsers.py\u001b[0m in \u001b[0;36m_read\u001b[0;34m(filepath_or_buffer, kwds)\u001b[0m\n\u001b[1;32m    460\u001b[0m \u001b[0;34m\u001b[0m\u001b[0m\n\u001b[1;32m    461\u001b[0m     \u001b[0;31m# Create the parser.\u001b[0m\u001b[0;34m\u001b[0m\u001b[0;34m\u001b[0m\u001b[0;34m\u001b[0m\u001b[0m\n\u001b[0;32m--> 462\u001b[0;31m     \u001b[0mparser\u001b[0m \u001b[0;34m=\u001b[0m \u001b[0mTextFileReader\u001b[0m\u001b[0;34m(\u001b[0m\u001b[0mfilepath_or_buffer\u001b[0m\u001b[0;34m,\u001b[0m \u001b[0;34m**\u001b[0m\u001b[0mkwds\u001b[0m\u001b[0;34m)\u001b[0m\u001b[0;34m\u001b[0m\u001b[0;34m\u001b[0m\u001b[0m\n\u001b[0m\u001b[1;32m    463\u001b[0m \u001b[0;34m\u001b[0m\u001b[0m\n\u001b[1;32m    464\u001b[0m     \u001b[0;32mif\u001b[0m \u001b[0mchunksize\u001b[0m \u001b[0;32mor\u001b[0m \u001b[0miterator\u001b[0m\u001b[0;34m:\u001b[0m\u001b[0;34m\u001b[0m\u001b[0;34m\u001b[0m\u001b[0m\n",
      "\u001b[0;32m~/opt/anaconda3/lib/python3.8/site-packages/pandas/io/parsers.py\u001b[0m in \u001b[0;36m__init__\u001b[0;34m(self, f, engine, **kwds)\u001b[0m\n\u001b[1;32m    817\u001b[0m             \u001b[0mself\u001b[0m\u001b[0;34m.\u001b[0m\u001b[0moptions\u001b[0m\u001b[0;34m[\u001b[0m\u001b[0;34m\"has_index_names\"\u001b[0m\u001b[0;34m]\u001b[0m \u001b[0;34m=\u001b[0m \u001b[0mkwds\u001b[0m\u001b[0;34m[\u001b[0m\u001b[0;34m\"has_index_names\"\u001b[0m\u001b[0;34m]\u001b[0m\u001b[0;34m\u001b[0m\u001b[0;34m\u001b[0m\u001b[0m\n\u001b[1;32m    818\u001b[0m \u001b[0;34m\u001b[0m\u001b[0m\n\u001b[0;32m--> 819\u001b[0;31m         \u001b[0mself\u001b[0m\u001b[0;34m.\u001b[0m\u001b[0m_engine\u001b[0m \u001b[0;34m=\u001b[0m \u001b[0mself\u001b[0m\u001b[0;34m.\u001b[0m\u001b[0m_make_engine\u001b[0m\u001b[0;34m(\u001b[0m\u001b[0mself\u001b[0m\u001b[0;34m.\u001b[0m\u001b[0mengine\u001b[0m\u001b[0;34m)\u001b[0m\u001b[0;34m\u001b[0m\u001b[0;34m\u001b[0m\u001b[0m\n\u001b[0m\u001b[1;32m    820\u001b[0m \u001b[0;34m\u001b[0m\u001b[0m\n\u001b[1;32m    821\u001b[0m     \u001b[0;32mdef\u001b[0m \u001b[0mclose\u001b[0m\u001b[0;34m(\u001b[0m\u001b[0mself\u001b[0m\u001b[0;34m)\u001b[0m\u001b[0;34m:\u001b[0m\u001b[0;34m\u001b[0m\u001b[0;34m\u001b[0m\u001b[0m\n",
      "\u001b[0;32m~/opt/anaconda3/lib/python3.8/site-packages/pandas/io/parsers.py\u001b[0m in \u001b[0;36m_make_engine\u001b[0;34m(self, engine)\u001b[0m\n\u001b[1;32m   1048\u001b[0m             )\n\u001b[1;32m   1049\u001b[0m         \u001b[0;31m# error: Too many arguments for \"ParserBase\"\u001b[0m\u001b[0;34m\u001b[0m\u001b[0;34m\u001b[0m\u001b[0;34m\u001b[0m\u001b[0m\n\u001b[0;32m-> 1050\u001b[0;31m         \u001b[0;32mreturn\u001b[0m \u001b[0mmapping\u001b[0m\u001b[0;34m[\u001b[0m\u001b[0mengine\u001b[0m\u001b[0;34m]\u001b[0m\u001b[0;34m(\u001b[0m\u001b[0mself\u001b[0m\u001b[0;34m.\u001b[0m\u001b[0mf\u001b[0m\u001b[0;34m,\u001b[0m \u001b[0;34m**\u001b[0m\u001b[0mself\u001b[0m\u001b[0;34m.\u001b[0m\u001b[0moptions\u001b[0m\u001b[0;34m)\u001b[0m  \u001b[0;31m# type: ignore[call-arg]\u001b[0m\u001b[0;34m\u001b[0m\u001b[0;34m\u001b[0m\u001b[0m\n\u001b[0m\u001b[1;32m   1051\u001b[0m \u001b[0;34m\u001b[0m\u001b[0m\n\u001b[1;32m   1052\u001b[0m     \u001b[0;32mdef\u001b[0m \u001b[0m_failover_to_python\u001b[0m\u001b[0;34m(\u001b[0m\u001b[0mself\u001b[0m\u001b[0;34m)\u001b[0m\u001b[0;34m:\u001b[0m\u001b[0;34m\u001b[0m\u001b[0;34m\u001b[0m\u001b[0m\n",
      "\u001b[0;32m~/opt/anaconda3/lib/python3.8/site-packages/pandas/io/parsers.py\u001b[0m in \u001b[0;36m__init__\u001b[0;34m(self, src, **kwds)\u001b[0m\n\u001b[1;32m   1865\u001b[0m \u001b[0;34m\u001b[0m\u001b[0m\n\u001b[1;32m   1866\u001b[0m         \u001b[0;31m# open handles\u001b[0m\u001b[0;34m\u001b[0m\u001b[0;34m\u001b[0m\u001b[0;34m\u001b[0m\u001b[0m\n\u001b[0;32m-> 1867\u001b[0;31m         \u001b[0mself\u001b[0m\u001b[0;34m.\u001b[0m\u001b[0m_open_handles\u001b[0m\u001b[0;34m(\u001b[0m\u001b[0msrc\u001b[0m\u001b[0;34m,\u001b[0m \u001b[0mkwds\u001b[0m\u001b[0;34m)\u001b[0m\u001b[0;34m\u001b[0m\u001b[0;34m\u001b[0m\u001b[0m\n\u001b[0m\u001b[1;32m   1868\u001b[0m         \u001b[0;32massert\u001b[0m \u001b[0mself\u001b[0m\u001b[0;34m.\u001b[0m\u001b[0mhandles\u001b[0m \u001b[0;32mis\u001b[0m \u001b[0;32mnot\u001b[0m \u001b[0;32mNone\u001b[0m\u001b[0;34m\u001b[0m\u001b[0;34m\u001b[0m\u001b[0m\n\u001b[1;32m   1869\u001b[0m         \u001b[0;32mfor\u001b[0m \u001b[0mkey\u001b[0m \u001b[0;32min\u001b[0m \u001b[0;34m(\u001b[0m\u001b[0;34m\"storage_options\"\u001b[0m\u001b[0;34m,\u001b[0m \u001b[0;34m\"encoding\"\u001b[0m\u001b[0;34m,\u001b[0m \u001b[0;34m\"memory_map\"\u001b[0m\u001b[0;34m,\u001b[0m \u001b[0;34m\"compression\"\u001b[0m\u001b[0;34m)\u001b[0m\u001b[0;34m:\u001b[0m\u001b[0;34m\u001b[0m\u001b[0;34m\u001b[0m\u001b[0m\n",
      "\u001b[0;32m~/opt/anaconda3/lib/python3.8/site-packages/pandas/io/parsers.py\u001b[0m in \u001b[0;36m_open_handles\u001b[0;34m(self, src, kwds)\u001b[0m\n\u001b[1;32m   1360\u001b[0m         \u001b[0mLet\u001b[0m \u001b[0mthe\u001b[0m \u001b[0mreaders\u001b[0m \u001b[0mopen\u001b[0m \u001b[0mIOHanldes\u001b[0m \u001b[0mafter\u001b[0m \u001b[0mthey\u001b[0m \u001b[0mare\u001b[0m \u001b[0mdone\u001b[0m \u001b[0;32mwith\u001b[0m \u001b[0mtheir\u001b[0m \u001b[0mpotential\u001b[0m \u001b[0mraises\u001b[0m\u001b[0;34m.\u001b[0m\u001b[0;34m\u001b[0m\u001b[0;34m\u001b[0m\u001b[0m\n\u001b[1;32m   1361\u001b[0m         \"\"\"\n\u001b[0;32m-> 1362\u001b[0;31m         self.handles = get_handle(\n\u001b[0m\u001b[1;32m   1363\u001b[0m             \u001b[0msrc\u001b[0m\u001b[0;34m,\u001b[0m\u001b[0;34m\u001b[0m\u001b[0;34m\u001b[0m\u001b[0m\n\u001b[1;32m   1364\u001b[0m             \u001b[0;34m\"r\"\u001b[0m\u001b[0;34m,\u001b[0m\u001b[0;34m\u001b[0m\u001b[0;34m\u001b[0m\u001b[0m\n",
      "\u001b[0;32m~/opt/anaconda3/lib/python3.8/site-packages/pandas/io/common.py\u001b[0m in \u001b[0;36mget_handle\u001b[0;34m(path_or_buf, mode, encoding, compression, memory_map, is_text, errors, storage_options)\u001b[0m\n\u001b[1;32m    640\u001b[0m                 \u001b[0merrors\u001b[0m \u001b[0;34m=\u001b[0m \u001b[0;34m\"replace\"\u001b[0m\u001b[0;34m\u001b[0m\u001b[0;34m\u001b[0m\u001b[0m\n\u001b[1;32m    641\u001b[0m             \u001b[0;31m# Encoding\u001b[0m\u001b[0;34m\u001b[0m\u001b[0;34m\u001b[0m\u001b[0;34m\u001b[0m\u001b[0m\n\u001b[0;32m--> 642\u001b[0;31m             handle = open(\n\u001b[0m\u001b[1;32m    643\u001b[0m                 \u001b[0mhandle\u001b[0m\u001b[0;34m,\u001b[0m\u001b[0;34m\u001b[0m\u001b[0;34m\u001b[0m\u001b[0m\n\u001b[1;32m    644\u001b[0m                 \u001b[0mioargs\u001b[0m\u001b[0;34m.\u001b[0m\u001b[0mmode\u001b[0m\u001b[0;34m,\u001b[0m\u001b[0;34m\u001b[0m\u001b[0;34m\u001b[0m\u001b[0m\n",
      "\u001b[0;31mFileNotFoundError\u001b[0m: [Errno 2] No such file or directory: 'heart.csv'"
     ]
    }
   ],
   "source": [
    "import numpy as np\n",
    "import pandas as pd\n",
    "import matplotlib.pyplot as plt\n",
    "import seaborn as sns\n",
    "import sklearn\n",
    "from sklearn import datasets\n",
    "from sklearn.linear_model import LinearRegression\n",
    "from sklearn.model_selection import train_test_split\n",
    "from sklearn.metrics import mean_squared_error\n",
    "from sklearn.neighbors import KNeighborsClassifier\n",
    "from sklearn.metrics import accuracy_score\n",
    "from sklearn.tree import DecisionTreeClassifier\n",
    "from sklearn import tree\n",
    "\n",
    "df = pd.read_csv('heart.csv') #reading the heart dataset\n",
    "df"
   ]
  },
  {
   "cell_type": "code",
   "execution_count": 482,
   "id": "e78edeef",
   "metadata": {},
   "outputs": [
    {
     "data": {
      "text/plain": [
       "Index(['Age', 'Sex', 'ChestPainType', 'RestingBP', 'Cholesterol', 'FastingBS',\n",
       "       'RestingECG', 'MaxHR', 'ExerciseAngina', 'Oldpeak', 'ST_Slope',\n",
       "       'HeartDisease'],\n",
       "      dtype='object')"
      ]
     },
     "execution_count": 482,
     "metadata": {},
     "output_type": "execute_result"
    }
   ],
   "source": [
    "df.columns #checking the columns in the dataset"
   ]
  },
  {
   "cell_type": "code",
   "execution_count": 483,
   "id": "99d889d1",
   "metadata": {},
   "outputs": [
    {
     "data": {
      "text/html": [
       "<div>\n",
       "<style scoped>\n",
       "    .dataframe tbody tr th:only-of-type {\n",
       "        vertical-align: middle;\n",
       "    }\n",
       "\n",
       "    .dataframe tbody tr th {\n",
       "        vertical-align: top;\n",
       "    }\n",
       "\n",
       "    .dataframe thead th {\n",
       "        text-align: right;\n",
       "    }\n",
       "</style>\n",
       "<table border=\"1\" class=\"dataframe\">\n",
       "  <thead>\n",
       "    <tr style=\"text-align: right;\">\n",
       "      <th></th>\n",
       "      <th>Age</th>\n",
       "      <th>RestingBP</th>\n",
       "      <th>Cholesterol</th>\n",
       "      <th>FastingBS</th>\n",
       "      <th>MaxHR</th>\n",
       "      <th>Oldpeak</th>\n",
       "      <th>HeartDisease</th>\n",
       "    </tr>\n",
       "  </thead>\n",
       "  <tbody>\n",
       "    <tr>\n",
       "      <th>count</th>\n",
       "      <td>918.000000</td>\n",
       "      <td>918.000000</td>\n",
       "      <td>918.000000</td>\n",
       "      <td>918.000000</td>\n",
       "      <td>918.000000</td>\n",
       "      <td>918.000000</td>\n",
       "      <td>918.000000</td>\n",
       "    </tr>\n",
       "    <tr>\n",
       "      <th>mean</th>\n",
       "      <td>53.510893</td>\n",
       "      <td>132.396514</td>\n",
       "      <td>198.799564</td>\n",
       "      <td>0.233115</td>\n",
       "      <td>136.809368</td>\n",
       "      <td>0.887364</td>\n",
       "      <td>0.553377</td>\n",
       "    </tr>\n",
       "    <tr>\n",
       "      <th>std</th>\n",
       "      <td>9.432617</td>\n",
       "      <td>18.514154</td>\n",
       "      <td>109.384145</td>\n",
       "      <td>0.423046</td>\n",
       "      <td>25.460334</td>\n",
       "      <td>1.066570</td>\n",
       "      <td>0.497414</td>\n",
       "    </tr>\n",
       "    <tr>\n",
       "      <th>min</th>\n",
       "      <td>28.000000</td>\n",
       "      <td>0.000000</td>\n",
       "      <td>0.000000</td>\n",
       "      <td>0.000000</td>\n",
       "      <td>60.000000</td>\n",
       "      <td>-2.600000</td>\n",
       "      <td>0.000000</td>\n",
       "    </tr>\n",
       "    <tr>\n",
       "      <th>25%</th>\n",
       "      <td>47.000000</td>\n",
       "      <td>120.000000</td>\n",
       "      <td>173.250000</td>\n",
       "      <td>0.000000</td>\n",
       "      <td>120.000000</td>\n",
       "      <td>0.000000</td>\n",
       "      <td>0.000000</td>\n",
       "    </tr>\n",
       "    <tr>\n",
       "      <th>50%</th>\n",
       "      <td>54.000000</td>\n",
       "      <td>130.000000</td>\n",
       "      <td>223.000000</td>\n",
       "      <td>0.000000</td>\n",
       "      <td>138.000000</td>\n",
       "      <td>0.600000</td>\n",
       "      <td>1.000000</td>\n",
       "    </tr>\n",
       "    <tr>\n",
       "      <th>75%</th>\n",
       "      <td>60.000000</td>\n",
       "      <td>140.000000</td>\n",
       "      <td>267.000000</td>\n",
       "      <td>0.000000</td>\n",
       "      <td>156.000000</td>\n",
       "      <td>1.500000</td>\n",
       "      <td>1.000000</td>\n",
       "    </tr>\n",
       "    <tr>\n",
       "      <th>max</th>\n",
       "      <td>77.000000</td>\n",
       "      <td>200.000000</td>\n",
       "      <td>603.000000</td>\n",
       "      <td>1.000000</td>\n",
       "      <td>202.000000</td>\n",
       "      <td>6.200000</td>\n",
       "      <td>1.000000</td>\n",
       "    </tr>\n",
       "  </tbody>\n",
       "</table>\n",
       "</div>"
      ],
      "text/plain": [
       "              Age   RestingBP  Cholesterol   FastingBS       MaxHR  \\\n",
       "count  918.000000  918.000000   918.000000  918.000000  918.000000   \n",
       "mean    53.510893  132.396514   198.799564    0.233115  136.809368   \n",
       "std      9.432617   18.514154   109.384145    0.423046   25.460334   \n",
       "min     28.000000    0.000000     0.000000    0.000000   60.000000   \n",
       "25%     47.000000  120.000000   173.250000    0.000000  120.000000   \n",
       "50%     54.000000  130.000000   223.000000    0.000000  138.000000   \n",
       "75%     60.000000  140.000000   267.000000    0.000000  156.000000   \n",
       "max     77.000000  200.000000   603.000000    1.000000  202.000000   \n",
       "\n",
       "          Oldpeak  HeartDisease  \n",
       "count  918.000000    918.000000  \n",
       "mean     0.887364      0.553377  \n",
       "std      1.066570      0.497414  \n",
       "min     -2.600000      0.000000  \n",
       "25%      0.000000      0.000000  \n",
       "50%      0.600000      1.000000  \n",
       "75%      1.500000      1.000000  \n",
       "max      6.200000      1.000000  "
      ]
     },
     "execution_count": 483,
     "metadata": {},
     "output_type": "execute_result"
    }
   ],
   "source": [
    "df.describe() #computing the statistical features of the numerical columns"
   ]
  },
  {
   "cell_type": "code",
   "execution_count": 484,
   "id": "9008537d",
   "metadata": {},
   "outputs": [
    {
     "data": {
      "text/html": [
       "<div>\n",
       "<style scoped>\n",
       "    .dataframe tbody tr th:only-of-type {\n",
       "        vertical-align: middle;\n",
       "    }\n",
       "\n",
       "    .dataframe tbody tr th {\n",
       "        vertical-align: top;\n",
       "    }\n",
       "\n",
       "    .dataframe thead th {\n",
       "        text-align: right;\n",
       "    }\n",
       "</style>\n",
       "<table border=\"1\" class=\"dataframe\">\n",
       "  <thead>\n",
       "    <tr style=\"text-align: right;\">\n",
       "      <th></th>\n",
       "      <th>Age</th>\n",
       "      <th>Sex</th>\n",
       "      <th>ChestPainType</th>\n",
       "      <th>RestingBP</th>\n",
       "      <th>Cholesterol</th>\n",
       "      <th>FastingBS</th>\n",
       "      <th>RestingECG</th>\n",
       "      <th>MaxHR</th>\n",
       "      <th>ExerciseAngina</th>\n",
       "      <th>Oldpeak</th>\n",
       "      <th>ST_Slope</th>\n",
       "      <th>HeartDisease</th>\n",
       "    </tr>\n",
       "  </thead>\n",
       "  <tbody>\n",
       "    <tr>\n",
       "      <th>0</th>\n",
       "      <td>40</td>\n",
       "      <td>M</td>\n",
       "      <td>ATA</td>\n",
       "      <td>140</td>\n",
       "      <td>289</td>\n",
       "      <td>0</td>\n",
       "      <td>Normal</td>\n",
       "      <td>172</td>\n",
       "      <td>N</td>\n",
       "      <td>0.0</td>\n",
       "      <td>Up</td>\n",
       "      <td>0</td>\n",
       "    </tr>\n",
       "    <tr>\n",
       "      <th>1</th>\n",
       "      <td>49</td>\n",
       "      <td>F</td>\n",
       "      <td>NAP</td>\n",
       "      <td>160</td>\n",
       "      <td>180</td>\n",
       "      <td>0</td>\n",
       "      <td>Normal</td>\n",
       "      <td>156</td>\n",
       "      <td>N</td>\n",
       "      <td>1.0</td>\n",
       "      <td>Flat</td>\n",
       "      <td>1</td>\n",
       "    </tr>\n",
       "    <tr>\n",
       "      <th>2</th>\n",
       "      <td>37</td>\n",
       "      <td>M</td>\n",
       "      <td>ATA</td>\n",
       "      <td>130</td>\n",
       "      <td>283</td>\n",
       "      <td>0</td>\n",
       "      <td>ST</td>\n",
       "      <td>98</td>\n",
       "      <td>N</td>\n",
       "      <td>0.0</td>\n",
       "      <td>Up</td>\n",
       "      <td>0</td>\n",
       "    </tr>\n",
       "    <tr>\n",
       "      <th>3</th>\n",
       "      <td>48</td>\n",
       "      <td>F</td>\n",
       "      <td>ASY</td>\n",
       "      <td>138</td>\n",
       "      <td>214</td>\n",
       "      <td>0</td>\n",
       "      <td>Normal</td>\n",
       "      <td>108</td>\n",
       "      <td>Y</td>\n",
       "      <td>1.5</td>\n",
       "      <td>Flat</td>\n",
       "      <td>1</td>\n",
       "    </tr>\n",
       "    <tr>\n",
       "      <th>4</th>\n",
       "      <td>54</td>\n",
       "      <td>M</td>\n",
       "      <td>NAP</td>\n",
       "      <td>150</td>\n",
       "      <td>195</td>\n",
       "      <td>0</td>\n",
       "      <td>Normal</td>\n",
       "      <td>122</td>\n",
       "      <td>N</td>\n",
       "      <td>0.0</td>\n",
       "      <td>Up</td>\n",
       "      <td>0</td>\n",
       "    </tr>\n",
       "    <tr>\n",
       "      <th>5</th>\n",
       "      <td>39</td>\n",
       "      <td>M</td>\n",
       "      <td>NAP</td>\n",
       "      <td>120</td>\n",
       "      <td>339</td>\n",
       "      <td>0</td>\n",
       "      <td>Normal</td>\n",
       "      <td>170</td>\n",
       "      <td>N</td>\n",
       "      <td>0.0</td>\n",
       "      <td>Up</td>\n",
       "      <td>0</td>\n",
       "    </tr>\n",
       "    <tr>\n",
       "      <th>6</th>\n",
       "      <td>45</td>\n",
       "      <td>F</td>\n",
       "      <td>ATA</td>\n",
       "      <td>130</td>\n",
       "      <td>237</td>\n",
       "      <td>0</td>\n",
       "      <td>Normal</td>\n",
       "      <td>170</td>\n",
       "      <td>N</td>\n",
       "      <td>0.0</td>\n",
       "      <td>Up</td>\n",
       "      <td>0</td>\n",
       "    </tr>\n",
       "    <tr>\n",
       "      <th>7</th>\n",
       "      <td>54</td>\n",
       "      <td>M</td>\n",
       "      <td>ATA</td>\n",
       "      <td>110</td>\n",
       "      <td>208</td>\n",
       "      <td>0</td>\n",
       "      <td>Normal</td>\n",
       "      <td>142</td>\n",
       "      <td>N</td>\n",
       "      <td>0.0</td>\n",
       "      <td>Up</td>\n",
       "      <td>0</td>\n",
       "    </tr>\n",
       "    <tr>\n",
       "      <th>8</th>\n",
       "      <td>37</td>\n",
       "      <td>M</td>\n",
       "      <td>ASY</td>\n",
       "      <td>140</td>\n",
       "      <td>207</td>\n",
       "      <td>0</td>\n",
       "      <td>Normal</td>\n",
       "      <td>130</td>\n",
       "      <td>Y</td>\n",
       "      <td>1.5</td>\n",
       "      <td>Flat</td>\n",
       "      <td>1</td>\n",
       "    </tr>\n",
       "    <tr>\n",
       "      <th>9</th>\n",
       "      <td>48</td>\n",
       "      <td>F</td>\n",
       "      <td>ATA</td>\n",
       "      <td>120</td>\n",
       "      <td>284</td>\n",
       "      <td>0</td>\n",
       "      <td>Normal</td>\n",
       "      <td>120</td>\n",
       "      <td>N</td>\n",
       "      <td>0.0</td>\n",
       "      <td>Up</td>\n",
       "      <td>0</td>\n",
       "    </tr>\n",
       "    <tr>\n",
       "      <th>10</th>\n",
       "      <td>37</td>\n",
       "      <td>F</td>\n",
       "      <td>NAP</td>\n",
       "      <td>130</td>\n",
       "      <td>211</td>\n",
       "      <td>0</td>\n",
       "      <td>Normal</td>\n",
       "      <td>142</td>\n",
       "      <td>N</td>\n",
       "      <td>0.0</td>\n",
       "      <td>Up</td>\n",
       "      <td>0</td>\n",
       "    </tr>\n",
       "    <tr>\n",
       "      <th>11</th>\n",
       "      <td>58</td>\n",
       "      <td>M</td>\n",
       "      <td>ATA</td>\n",
       "      <td>136</td>\n",
       "      <td>164</td>\n",
       "      <td>0</td>\n",
       "      <td>ST</td>\n",
       "      <td>99</td>\n",
       "      <td>Y</td>\n",
       "      <td>2.0</td>\n",
       "      <td>Flat</td>\n",
       "      <td>1</td>\n",
       "    </tr>\n",
       "    <tr>\n",
       "      <th>12</th>\n",
       "      <td>39</td>\n",
       "      <td>M</td>\n",
       "      <td>ATA</td>\n",
       "      <td>120</td>\n",
       "      <td>204</td>\n",
       "      <td>0</td>\n",
       "      <td>Normal</td>\n",
       "      <td>145</td>\n",
       "      <td>N</td>\n",
       "      <td>0.0</td>\n",
       "      <td>Up</td>\n",
       "      <td>0</td>\n",
       "    </tr>\n",
       "    <tr>\n",
       "      <th>13</th>\n",
       "      <td>49</td>\n",
       "      <td>M</td>\n",
       "      <td>ASY</td>\n",
       "      <td>140</td>\n",
       "      <td>234</td>\n",
       "      <td>0</td>\n",
       "      <td>Normal</td>\n",
       "      <td>140</td>\n",
       "      <td>Y</td>\n",
       "      <td>1.0</td>\n",
       "      <td>Flat</td>\n",
       "      <td>1</td>\n",
       "    </tr>\n",
       "    <tr>\n",
       "      <th>14</th>\n",
       "      <td>42</td>\n",
       "      <td>F</td>\n",
       "      <td>NAP</td>\n",
       "      <td>115</td>\n",
       "      <td>211</td>\n",
       "      <td>0</td>\n",
       "      <td>ST</td>\n",
       "      <td>137</td>\n",
       "      <td>N</td>\n",
       "      <td>0.0</td>\n",
       "      <td>Up</td>\n",
       "      <td>0</td>\n",
       "    </tr>\n",
       "    <tr>\n",
       "      <th>15</th>\n",
       "      <td>54</td>\n",
       "      <td>F</td>\n",
       "      <td>ATA</td>\n",
       "      <td>120</td>\n",
       "      <td>273</td>\n",
       "      <td>0</td>\n",
       "      <td>Normal</td>\n",
       "      <td>150</td>\n",
       "      <td>N</td>\n",
       "      <td>1.5</td>\n",
       "      <td>Flat</td>\n",
       "      <td>0</td>\n",
       "    </tr>\n",
       "    <tr>\n",
       "      <th>16</th>\n",
       "      <td>38</td>\n",
       "      <td>M</td>\n",
       "      <td>ASY</td>\n",
       "      <td>110</td>\n",
       "      <td>196</td>\n",
       "      <td>0</td>\n",
       "      <td>Normal</td>\n",
       "      <td>166</td>\n",
       "      <td>N</td>\n",
       "      <td>0.0</td>\n",
       "      <td>Flat</td>\n",
       "      <td>1</td>\n",
       "    </tr>\n",
       "    <tr>\n",
       "      <th>17</th>\n",
       "      <td>43</td>\n",
       "      <td>F</td>\n",
       "      <td>ATA</td>\n",
       "      <td>120</td>\n",
       "      <td>201</td>\n",
       "      <td>0</td>\n",
       "      <td>Normal</td>\n",
       "      <td>165</td>\n",
       "      <td>N</td>\n",
       "      <td>0.0</td>\n",
       "      <td>Up</td>\n",
       "      <td>0</td>\n",
       "    </tr>\n",
       "    <tr>\n",
       "      <th>18</th>\n",
       "      <td>60</td>\n",
       "      <td>M</td>\n",
       "      <td>ASY</td>\n",
       "      <td>100</td>\n",
       "      <td>248</td>\n",
       "      <td>0</td>\n",
       "      <td>Normal</td>\n",
       "      <td>125</td>\n",
       "      <td>N</td>\n",
       "      <td>1.0</td>\n",
       "      <td>Flat</td>\n",
       "      <td>1</td>\n",
       "    </tr>\n",
       "    <tr>\n",
       "      <th>19</th>\n",
       "      <td>36</td>\n",
       "      <td>M</td>\n",
       "      <td>ATA</td>\n",
       "      <td>120</td>\n",
       "      <td>267</td>\n",
       "      <td>0</td>\n",
       "      <td>Normal</td>\n",
       "      <td>160</td>\n",
       "      <td>N</td>\n",
       "      <td>3.0</td>\n",
       "      <td>Flat</td>\n",
       "      <td>1</td>\n",
       "    </tr>\n",
       "  </tbody>\n",
       "</table>\n",
       "</div>"
      ],
      "text/plain": [
       "    Age Sex ChestPainType  RestingBP  Cholesterol  FastingBS RestingECG  \\\n",
       "0    40   M           ATA        140          289          0     Normal   \n",
       "1    49   F           NAP        160          180          0     Normal   \n",
       "2    37   M           ATA        130          283          0         ST   \n",
       "3    48   F           ASY        138          214          0     Normal   \n",
       "4    54   M           NAP        150          195          0     Normal   \n",
       "5    39   M           NAP        120          339          0     Normal   \n",
       "6    45   F           ATA        130          237          0     Normal   \n",
       "7    54   M           ATA        110          208          0     Normal   \n",
       "8    37   M           ASY        140          207          0     Normal   \n",
       "9    48   F           ATA        120          284          0     Normal   \n",
       "10   37   F           NAP        130          211          0     Normal   \n",
       "11   58   M           ATA        136          164          0         ST   \n",
       "12   39   M           ATA        120          204          0     Normal   \n",
       "13   49   M           ASY        140          234          0     Normal   \n",
       "14   42   F           NAP        115          211          0         ST   \n",
       "15   54   F           ATA        120          273          0     Normal   \n",
       "16   38   M           ASY        110          196          0     Normal   \n",
       "17   43   F           ATA        120          201          0     Normal   \n",
       "18   60   M           ASY        100          248          0     Normal   \n",
       "19   36   M           ATA        120          267          0     Normal   \n",
       "\n",
       "    MaxHR ExerciseAngina  Oldpeak ST_Slope  HeartDisease  \n",
       "0     172              N      0.0       Up             0  \n",
       "1     156              N      1.0     Flat             1  \n",
       "2      98              N      0.0       Up             0  \n",
       "3     108              Y      1.5     Flat             1  \n",
       "4     122              N      0.0       Up             0  \n",
       "5     170              N      0.0       Up             0  \n",
       "6     170              N      0.0       Up             0  \n",
       "7     142              N      0.0       Up             0  \n",
       "8     130              Y      1.5     Flat             1  \n",
       "9     120              N      0.0       Up             0  \n",
       "10    142              N      0.0       Up             0  \n",
       "11     99              Y      2.0     Flat             1  \n",
       "12    145              N      0.0       Up             0  \n",
       "13    140              Y      1.0     Flat             1  \n",
       "14    137              N      0.0       Up             0  \n",
       "15    150              N      1.5     Flat             0  \n",
       "16    166              N      0.0     Flat             1  \n",
       "17    165              N      0.0       Up             0  \n",
       "18    125              N      1.0     Flat             1  \n",
       "19    160              N      3.0     Flat             1  "
      ]
     },
     "execution_count": 484,
     "metadata": {},
     "output_type": "execute_result"
    }
   ],
   "source": [
    "df.head(20) #checking the first 20 rows of the dataset"
   ]
  },
  {
   "cell_type": "code",
   "execution_count": 485,
   "id": "5e4c7a49",
   "metadata": {},
   "outputs": [
    {
     "data": {
      "text/plain": [
       "Age                 int64\n",
       "Sex                object\n",
       "ChestPainType      object\n",
       "RestingBP           int64\n",
       "Cholesterol         int64\n",
       "FastingBS           int64\n",
       "RestingECG         object\n",
       "MaxHR               int64\n",
       "ExerciseAngina     object\n",
       "Oldpeak           float64\n",
       "ST_Slope           object\n",
       "HeartDisease        int64\n",
       "dtype: object"
      ]
     },
     "execution_count": 485,
     "metadata": {},
     "output_type": "execute_result"
    }
   ],
   "source": [
    "df.dtypes #checking the datatypes of the data contained in the columns"
   ]
  },
  {
   "cell_type": "code",
   "execution_count": 486,
   "id": "a6292ddd",
   "metadata": {},
   "outputs": [],
   "source": [
    "copydata = df"
   ]
  },
  {
   "cell_type": "code",
   "execution_count": 487,
   "id": "80e91517",
   "metadata": {},
   "outputs": [],
   "source": [
    "idealOutput = pd.DataFrame()\n",
    "idealOutput = df.HeartDisease #saving the HeartDisease column in a separate dataframe\n",
    "df = df.drop(\"HeartDisease\", axis=1) #dropping the column from the main dataframe"
   ]
  },
  {
   "cell_type": "code",
   "execution_count": 488,
   "id": "b59e88cc",
   "metadata": {},
   "outputs": [],
   "source": [
    "copyNoHD = df"
   ]
  },
  {
   "cell_type": "code",
   "execution_count": 489,
   "id": "453e61b2",
   "metadata": {},
   "outputs": [],
   "source": [
    "c1 = pd.get_dummies(df.Sex, prefix=\"Sex\") #creating indicator data for Sex column"
   ]
  },
  {
   "cell_type": "code",
   "execution_count": 490,
   "id": "9c33b545",
   "metadata": {},
   "outputs": [
    {
     "data": {
      "text/plain": [
       "array(['ATA', 'NAP', 'ASY', 'TA'], dtype=object)"
      ]
     },
     "execution_count": 490,
     "metadata": {},
     "output_type": "execute_result"
    }
   ],
   "source": [
    "df.ChestPainType.unique() #obtaining unique categories in each of the columns with object data types"
   ]
  },
  {
   "cell_type": "code",
   "execution_count": 491,
   "id": "1e3c0d98",
   "metadata": {},
   "outputs": [],
   "source": [
    "c2 = pd.get_dummies(df.ChestPainType,prefix=\"CPT\") #creating indicator data for Chest Pain Type column"
   ]
  },
  {
   "cell_type": "code",
   "execution_count": 492,
   "id": "fc9fa827",
   "metadata": {},
   "outputs": [
    {
     "data": {
      "text/plain": [
       "array(['Normal', 'ST', 'LVH'], dtype=object)"
      ]
     },
     "execution_count": 492,
     "metadata": {},
     "output_type": "execute_result"
    }
   ],
   "source": [
    "df.RestingECG.unique()"
   ]
  },
  {
   "cell_type": "code",
   "execution_count": 493,
   "id": "dddd1fd4",
   "metadata": {},
   "outputs": [],
   "source": [
    "c3 = pd.get_dummies(df.RestingECG,prefix=\"RECG\") #creating indicator data for Resting ECG column"
   ]
  },
  {
   "cell_type": "code",
   "execution_count": 494,
   "id": "747052f8",
   "metadata": {},
   "outputs": [
    {
     "data": {
      "text/plain": [
       "array(['N', 'Y'], dtype=object)"
      ]
     },
     "execution_count": 494,
     "metadata": {},
     "output_type": "execute_result"
    }
   ],
   "source": [
    "df.ExerciseAngina.unique()"
   ]
  },
  {
   "cell_type": "code",
   "execution_count": 495,
   "id": "313080e3",
   "metadata": {},
   "outputs": [],
   "source": [
    "c4 = pd.get_dummies(df.ExerciseAngina,prefix=\"EA\") #creating indicator data for Excercise Angina column"
   ]
  },
  {
   "cell_type": "code",
   "execution_count": 496,
   "id": "8f06de4a",
   "metadata": {},
   "outputs": [
    {
     "data": {
      "text/plain": [
       "array(['Up', 'Flat', 'Down'], dtype=object)"
      ]
     },
     "execution_count": 496,
     "metadata": {},
     "output_type": "execute_result"
    }
   ],
   "source": [
    "df.ST_Slope.unique()"
   ]
  },
  {
   "cell_type": "code",
   "execution_count": 497,
   "id": "61b7746c",
   "metadata": {},
   "outputs": [],
   "source": [
    "c5 = pd.get_dummies(df.ST_Slope,prefix=\"ST_S\") #creating indicator data for ST_Slope column"
   ]
  },
  {
   "cell_type": "code",
   "execution_count": 498,
   "id": "807c2dbc",
   "metadata": {},
   "outputs": [],
   "source": [
    "df = df.join([c1,c2,c3,c4,c5]) #appending the indicator columns to the main data frame"
   ]
  },
  {
   "cell_type": "code",
   "execution_count": 499,
   "id": "921976c1",
   "metadata": {},
   "outputs": [],
   "source": [
    "df = df.drop([\"Sex\",\"ChestPainType\",\"RestingECG\",\"ExerciseAngina\",\"ST_Slope\"],axis=1) #dropping the columns where the data has been converted to indicator data"
   ]
  },
  {
   "cell_type": "code",
   "execution_count": 500,
   "id": "dc9b9a27",
   "metadata": {},
   "outputs": [
    {
     "data": {
      "text/html": [
       "<div>\n",
       "<style scoped>\n",
       "    .dataframe tbody tr th:only-of-type {\n",
       "        vertical-align: middle;\n",
       "    }\n",
       "\n",
       "    .dataframe tbody tr th {\n",
       "        vertical-align: top;\n",
       "    }\n",
       "\n",
       "    .dataframe thead th {\n",
       "        text-align: right;\n",
       "    }\n",
       "</style>\n",
       "<table border=\"1\" class=\"dataframe\">\n",
       "  <thead>\n",
       "    <tr style=\"text-align: right;\">\n",
       "      <th></th>\n",
       "      <th>Age</th>\n",
       "      <th>RestingBP</th>\n",
       "      <th>Cholesterol</th>\n",
       "      <th>FastingBS</th>\n",
       "      <th>MaxHR</th>\n",
       "      <th>Oldpeak</th>\n",
       "      <th>Sex_F</th>\n",
       "      <th>Sex_M</th>\n",
       "      <th>CPT_ASY</th>\n",
       "      <th>CPT_ATA</th>\n",
       "      <th>CPT_NAP</th>\n",
       "      <th>CPT_TA</th>\n",
       "      <th>RECG_LVH</th>\n",
       "      <th>RECG_Normal</th>\n",
       "      <th>RECG_ST</th>\n",
       "      <th>EA_N</th>\n",
       "      <th>EA_Y</th>\n",
       "      <th>ST_S_Down</th>\n",
       "      <th>ST_S_Flat</th>\n",
       "      <th>ST_S_Up</th>\n",
       "    </tr>\n",
       "  </thead>\n",
       "  <tbody>\n",
       "    <tr>\n",
       "      <th>0</th>\n",
       "      <td>40</td>\n",
       "      <td>140</td>\n",
       "      <td>289</td>\n",
       "      <td>0</td>\n",
       "      <td>172</td>\n",
       "      <td>0.0</td>\n",
       "      <td>0</td>\n",
       "      <td>1</td>\n",
       "      <td>0</td>\n",
       "      <td>1</td>\n",
       "      <td>0</td>\n",
       "      <td>0</td>\n",
       "      <td>0</td>\n",
       "      <td>1</td>\n",
       "      <td>0</td>\n",
       "      <td>1</td>\n",
       "      <td>0</td>\n",
       "      <td>0</td>\n",
       "      <td>0</td>\n",
       "      <td>1</td>\n",
       "    </tr>\n",
       "    <tr>\n",
       "      <th>1</th>\n",
       "      <td>49</td>\n",
       "      <td>160</td>\n",
       "      <td>180</td>\n",
       "      <td>0</td>\n",
       "      <td>156</td>\n",
       "      <td>1.0</td>\n",
       "      <td>1</td>\n",
       "      <td>0</td>\n",
       "      <td>0</td>\n",
       "      <td>0</td>\n",
       "      <td>1</td>\n",
       "      <td>0</td>\n",
       "      <td>0</td>\n",
       "      <td>1</td>\n",
       "      <td>0</td>\n",
       "      <td>1</td>\n",
       "      <td>0</td>\n",
       "      <td>0</td>\n",
       "      <td>1</td>\n",
       "      <td>0</td>\n",
       "    </tr>\n",
       "    <tr>\n",
       "      <th>2</th>\n",
       "      <td>37</td>\n",
       "      <td>130</td>\n",
       "      <td>283</td>\n",
       "      <td>0</td>\n",
       "      <td>98</td>\n",
       "      <td>0.0</td>\n",
       "      <td>0</td>\n",
       "      <td>1</td>\n",
       "      <td>0</td>\n",
       "      <td>1</td>\n",
       "      <td>0</td>\n",
       "      <td>0</td>\n",
       "      <td>0</td>\n",
       "      <td>0</td>\n",
       "      <td>1</td>\n",
       "      <td>1</td>\n",
       "      <td>0</td>\n",
       "      <td>0</td>\n",
       "      <td>0</td>\n",
       "      <td>1</td>\n",
       "    </tr>\n",
       "    <tr>\n",
       "      <th>3</th>\n",
       "      <td>48</td>\n",
       "      <td>138</td>\n",
       "      <td>214</td>\n",
       "      <td>0</td>\n",
       "      <td>108</td>\n",
       "      <td>1.5</td>\n",
       "      <td>1</td>\n",
       "      <td>0</td>\n",
       "      <td>1</td>\n",
       "      <td>0</td>\n",
       "      <td>0</td>\n",
       "      <td>0</td>\n",
       "      <td>0</td>\n",
       "      <td>1</td>\n",
       "      <td>0</td>\n",
       "      <td>0</td>\n",
       "      <td>1</td>\n",
       "      <td>0</td>\n",
       "      <td>1</td>\n",
       "      <td>0</td>\n",
       "    </tr>\n",
       "    <tr>\n",
       "      <th>4</th>\n",
       "      <td>54</td>\n",
       "      <td>150</td>\n",
       "      <td>195</td>\n",
       "      <td>0</td>\n",
       "      <td>122</td>\n",
       "      <td>0.0</td>\n",
       "      <td>0</td>\n",
       "      <td>1</td>\n",
       "      <td>0</td>\n",
       "      <td>0</td>\n",
       "      <td>1</td>\n",
       "      <td>0</td>\n",
       "      <td>0</td>\n",
       "      <td>1</td>\n",
       "      <td>0</td>\n",
       "      <td>1</td>\n",
       "      <td>0</td>\n",
       "      <td>0</td>\n",
       "      <td>0</td>\n",
       "      <td>1</td>\n",
       "    </tr>\n",
       "    <tr>\n",
       "      <th>...</th>\n",
       "      <td>...</td>\n",
       "      <td>...</td>\n",
       "      <td>...</td>\n",
       "      <td>...</td>\n",
       "      <td>...</td>\n",
       "      <td>...</td>\n",
       "      <td>...</td>\n",
       "      <td>...</td>\n",
       "      <td>...</td>\n",
       "      <td>...</td>\n",
       "      <td>...</td>\n",
       "      <td>...</td>\n",
       "      <td>...</td>\n",
       "      <td>...</td>\n",
       "      <td>...</td>\n",
       "      <td>...</td>\n",
       "      <td>...</td>\n",
       "      <td>...</td>\n",
       "      <td>...</td>\n",
       "      <td>...</td>\n",
       "    </tr>\n",
       "    <tr>\n",
       "      <th>913</th>\n",
       "      <td>45</td>\n",
       "      <td>110</td>\n",
       "      <td>264</td>\n",
       "      <td>0</td>\n",
       "      <td>132</td>\n",
       "      <td>1.2</td>\n",
       "      <td>0</td>\n",
       "      <td>1</td>\n",
       "      <td>0</td>\n",
       "      <td>0</td>\n",
       "      <td>0</td>\n",
       "      <td>1</td>\n",
       "      <td>0</td>\n",
       "      <td>1</td>\n",
       "      <td>0</td>\n",
       "      <td>1</td>\n",
       "      <td>0</td>\n",
       "      <td>0</td>\n",
       "      <td>1</td>\n",
       "      <td>0</td>\n",
       "    </tr>\n",
       "    <tr>\n",
       "      <th>914</th>\n",
       "      <td>68</td>\n",
       "      <td>144</td>\n",
       "      <td>193</td>\n",
       "      <td>1</td>\n",
       "      <td>141</td>\n",
       "      <td>3.4</td>\n",
       "      <td>0</td>\n",
       "      <td>1</td>\n",
       "      <td>1</td>\n",
       "      <td>0</td>\n",
       "      <td>0</td>\n",
       "      <td>0</td>\n",
       "      <td>0</td>\n",
       "      <td>1</td>\n",
       "      <td>0</td>\n",
       "      <td>1</td>\n",
       "      <td>0</td>\n",
       "      <td>0</td>\n",
       "      <td>1</td>\n",
       "      <td>0</td>\n",
       "    </tr>\n",
       "    <tr>\n",
       "      <th>915</th>\n",
       "      <td>57</td>\n",
       "      <td>130</td>\n",
       "      <td>131</td>\n",
       "      <td>0</td>\n",
       "      <td>115</td>\n",
       "      <td>1.2</td>\n",
       "      <td>0</td>\n",
       "      <td>1</td>\n",
       "      <td>1</td>\n",
       "      <td>0</td>\n",
       "      <td>0</td>\n",
       "      <td>0</td>\n",
       "      <td>0</td>\n",
       "      <td>1</td>\n",
       "      <td>0</td>\n",
       "      <td>0</td>\n",
       "      <td>1</td>\n",
       "      <td>0</td>\n",
       "      <td>1</td>\n",
       "      <td>0</td>\n",
       "    </tr>\n",
       "    <tr>\n",
       "      <th>916</th>\n",
       "      <td>57</td>\n",
       "      <td>130</td>\n",
       "      <td>236</td>\n",
       "      <td>0</td>\n",
       "      <td>174</td>\n",
       "      <td>0.0</td>\n",
       "      <td>1</td>\n",
       "      <td>0</td>\n",
       "      <td>0</td>\n",
       "      <td>1</td>\n",
       "      <td>0</td>\n",
       "      <td>0</td>\n",
       "      <td>1</td>\n",
       "      <td>0</td>\n",
       "      <td>0</td>\n",
       "      <td>1</td>\n",
       "      <td>0</td>\n",
       "      <td>0</td>\n",
       "      <td>1</td>\n",
       "      <td>0</td>\n",
       "    </tr>\n",
       "    <tr>\n",
       "      <th>917</th>\n",
       "      <td>38</td>\n",
       "      <td>138</td>\n",
       "      <td>175</td>\n",
       "      <td>0</td>\n",
       "      <td>173</td>\n",
       "      <td>0.0</td>\n",
       "      <td>0</td>\n",
       "      <td>1</td>\n",
       "      <td>0</td>\n",
       "      <td>0</td>\n",
       "      <td>1</td>\n",
       "      <td>0</td>\n",
       "      <td>0</td>\n",
       "      <td>1</td>\n",
       "      <td>0</td>\n",
       "      <td>1</td>\n",
       "      <td>0</td>\n",
       "      <td>0</td>\n",
       "      <td>0</td>\n",
       "      <td>1</td>\n",
       "    </tr>\n",
       "  </tbody>\n",
       "</table>\n",
       "<p>918 rows × 20 columns</p>\n",
       "</div>"
      ],
      "text/plain": [
       "     Age  RestingBP  Cholesterol  FastingBS  MaxHR  Oldpeak  Sex_F  Sex_M  \\\n",
       "0     40        140          289          0    172      0.0      0      1   \n",
       "1     49        160          180          0    156      1.0      1      0   \n",
       "2     37        130          283          0     98      0.0      0      1   \n",
       "3     48        138          214          0    108      1.5      1      0   \n",
       "4     54        150          195          0    122      0.0      0      1   \n",
       "..   ...        ...          ...        ...    ...      ...    ...    ...   \n",
       "913   45        110          264          0    132      1.2      0      1   \n",
       "914   68        144          193          1    141      3.4      0      1   \n",
       "915   57        130          131          0    115      1.2      0      1   \n",
       "916   57        130          236          0    174      0.0      1      0   \n",
       "917   38        138          175          0    173      0.0      0      1   \n",
       "\n",
       "     CPT_ASY  CPT_ATA  CPT_NAP  CPT_TA  RECG_LVH  RECG_Normal  RECG_ST  EA_N  \\\n",
       "0          0        1        0       0         0            1        0     1   \n",
       "1          0        0        1       0         0            1        0     1   \n",
       "2          0        1        0       0         0            0        1     1   \n",
       "3          1        0        0       0         0            1        0     0   \n",
       "4          0        0        1       0         0            1        0     1   \n",
       "..       ...      ...      ...     ...       ...          ...      ...   ...   \n",
       "913        0        0        0       1         0            1        0     1   \n",
       "914        1        0        0       0         0            1        0     1   \n",
       "915        1        0        0       0         0            1        0     0   \n",
       "916        0        1        0       0         1            0        0     1   \n",
       "917        0        0        1       0         0            1        0     1   \n",
       "\n",
       "     EA_Y  ST_S_Down  ST_S_Flat  ST_S_Up  \n",
       "0       0          0          0        1  \n",
       "1       0          0          1        0  \n",
       "2       0          0          0        1  \n",
       "3       1          0          1        0  \n",
       "4       0          0          0        1  \n",
       "..    ...        ...        ...      ...  \n",
       "913     0          0          1        0  \n",
       "914     0          0          1        0  \n",
       "915     1          0          1        0  \n",
       "916     0          0          1        0  \n",
       "917     0          0          0        1  \n",
       "\n",
       "[918 rows x 20 columns]"
      ]
     },
     "execution_count": 500,
     "metadata": {},
     "output_type": "execute_result"
    }
   ],
   "source": [
    "df #visualizing the data frame after these changes"
   ]
  },
  {
   "cell_type": "code",
   "execution_count": 501,
   "id": "f1f880cd",
   "metadata": {},
   "outputs": [],
   "source": [
    "df[\"normal_BP\"] = 0 #creating arrays for indicator Blood Pressure data in 3 ranges ('normal', 'at risk', and 'high')\n",
    "df[\"atRisk_BP\"] = 0\n",
    "df[\"high_BP\"] = 0"
   ]
  },
  {
   "cell_type": "code",
   "execution_count": 502,
   "id": "3c819265",
   "metadata": {},
   "outputs": [
    {
     "name": "stderr",
     "output_type": "stream",
     "text": [
      "/Users/adityasyam/opt/anaconda3/lib/python3.8/site-packages/pandas/core/indexing.py:1637: SettingWithCopyWarning: \n",
      "A value is trying to be set on a copy of a slice from a DataFrame\n",
      "\n",
      "See the caveats in the documentation: https://pandas.pydata.org/pandas-docs/stable/user_guide/indexing.html#returning-a-view-versus-a-copy\n",
      "  self._setitem_single_block(indexer, value, name)\n"
     ]
    }
   ],
   "source": [
    "for i in range(len(df.index)): #dividing each person into three categories of resting BP\n",
    "    if (df.RestingBP.iloc[i] <= 120):\n",
    "        df[\"normal_BP\"].iloc[i] = 1\n",
    "    elif (df.RestingBP.iloc[i] > 120 and df.RestingBP.iloc[i] <= 139):\n",
    "        df[\"atRisk_BP\"].iloc[i] =1\n",
    "    else:\n",
    "        df[\"high_BP\"].iloc[i] = 1"
   ]
  },
  {
   "cell_type": "code",
   "execution_count": 503,
   "id": "75ed9a55",
   "metadata": {},
   "outputs": [
    {
     "data": {
      "text/html": [
       "<div>\n",
       "<style scoped>\n",
       "    .dataframe tbody tr th:only-of-type {\n",
       "        vertical-align: middle;\n",
       "    }\n",
       "\n",
       "    .dataframe tbody tr th {\n",
       "        vertical-align: top;\n",
       "    }\n",
       "\n",
       "    .dataframe thead th {\n",
       "        text-align: right;\n",
       "    }\n",
       "</style>\n",
       "<table border=\"1\" class=\"dataframe\">\n",
       "  <thead>\n",
       "    <tr style=\"text-align: right;\">\n",
       "      <th></th>\n",
       "      <th>Age</th>\n",
       "      <th>RestingBP</th>\n",
       "      <th>Cholesterol</th>\n",
       "      <th>FastingBS</th>\n",
       "      <th>MaxHR</th>\n",
       "      <th>Oldpeak</th>\n",
       "      <th>Sex_F</th>\n",
       "      <th>Sex_M</th>\n",
       "      <th>CPT_ASY</th>\n",
       "      <th>CPT_ATA</th>\n",
       "      <th>...</th>\n",
       "      <th>RECG_Normal</th>\n",
       "      <th>RECG_ST</th>\n",
       "      <th>EA_N</th>\n",
       "      <th>EA_Y</th>\n",
       "      <th>ST_S_Down</th>\n",
       "      <th>ST_S_Flat</th>\n",
       "      <th>ST_S_Up</th>\n",
       "      <th>normal_BP</th>\n",
       "      <th>atRisk_BP</th>\n",
       "      <th>high_BP</th>\n",
       "    </tr>\n",
       "  </thead>\n",
       "  <tbody>\n",
       "    <tr>\n",
       "      <th>0</th>\n",
       "      <td>40</td>\n",
       "      <td>140</td>\n",
       "      <td>289</td>\n",
       "      <td>0</td>\n",
       "      <td>172</td>\n",
       "      <td>0.0</td>\n",
       "      <td>0</td>\n",
       "      <td>1</td>\n",
       "      <td>0</td>\n",
       "      <td>1</td>\n",
       "      <td>...</td>\n",
       "      <td>1</td>\n",
       "      <td>0</td>\n",
       "      <td>1</td>\n",
       "      <td>0</td>\n",
       "      <td>0</td>\n",
       "      <td>0</td>\n",
       "      <td>1</td>\n",
       "      <td>0</td>\n",
       "      <td>0</td>\n",
       "      <td>1</td>\n",
       "    </tr>\n",
       "    <tr>\n",
       "      <th>1</th>\n",
       "      <td>49</td>\n",
       "      <td>160</td>\n",
       "      <td>180</td>\n",
       "      <td>0</td>\n",
       "      <td>156</td>\n",
       "      <td>1.0</td>\n",
       "      <td>1</td>\n",
       "      <td>0</td>\n",
       "      <td>0</td>\n",
       "      <td>0</td>\n",
       "      <td>...</td>\n",
       "      <td>1</td>\n",
       "      <td>0</td>\n",
       "      <td>1</td>\n",
       "      <td>0</td>\n",
       "      <td>0</td>\n",
       "      <td>1</td>\n",
       "      <td>0</td>\n",
       "      <td>0</td>\n",
       "      <td>0</td>\n",
       "      <td>1</td>\n",
       "    </tr>\n",
       "    <tr>\n",
       "      <th>2</th>\n",
       "      <td>37</td>\n",
       "      <td>130</td>\n",
       "      <td>283</td>\n",
       "      <td>0</td>\n",
       "      <td>98</td>\n",
       "      <td>0.0</td>\n",
       "      <td>0</td>\n",
       "      <td>1</td>\n",
       "      <td>0</td>\n",
       "      <td>1</td>\n",
       "      <td>...</td>\n",
       "      <td>0</td>\n",
       "      <td>1</td>\n",
       "      <td>1</td>\n",
       "      <td>0</td>\n",
       "      <td>0</td>\n",
       "      <td>0</td>\n",
       "      <td>1</td>\n",
       "      <td>0</td>\n",
       "      <td>1</td>\n",
       "      <td>0</td>\n",
       "    </tr>\n",
       "    <tr>\n",
       "      <th>3</th>\n",
       "      <td>48</td>\n",
       "      <td>138</td>\n",
       "      <td>214</td>\n",
       "      <td>0</td>\n",
       "      <td>108</td>\n",
       "      <td>1.5</td>\n",
       "      <td>1</td>\n",
       "      <td>0</td>\n",
       "      <td>1</td>\n",
       "      <td>0</td>\n",
       "      <td>...</td>\n",
       "      <td>1</td>\n",
       "      <td>0</td>\n",
       "      <td>0</td>\n",
       "      <td>1</td>\n",
       "      <td>0</td>\n",
       "      <td>1</td>\n",
       "      <td>0</td>\n",
       "      <td>0</td>\n",
       "      <td>1</td>\n",
       "      <td>0</td>\n",
       "    </tr>\n",
       "    <tr>\n",
       "      <th>4</th>\n",
       "      <td>54</td>\n",
       "      <td>150</td>\n",
       "      <td>195</td>\n",
       "      <td>0</td>\n",
       "      <td>122</td>\n",
       "      <td>0.0</td>\n",
       "      <td>0</td>\n",
       "      <td>1</td>\n",
       "      <td>0</td>\n",
       "      <td>0</td>\n",
       "      <td>...</td>\n",
       "      <td>1</td>\n",
       "      <td>0</td>\n",
       "      <td>1</td>\n",
       "      <td>0</td>\n",
       "      <td>0</td>\n",
       "      <td>0</td>\n",
       "      <td>1</td>\n",
       "      <td>0</td>\n",
       "      <td>0</td>\n",
       "      <td>1</td>\n",
       "    </tr>\n",
       "    <tr>\n",
       "      <th>...</th>\n",
       "      <td>...</td>\n",
       "      <td>...</td>\n",
       "      <td>...</td>\n",
       "      <td>...</td>\n",
       "      <td>...</td>\n",
       "      <td>...</td>\n",
       "      <td>...</td>\n",
       "      <td>...</td>\n",
       "      <td>...</td>\n",
       "      <td>...</td>\n",
       "      <td>...</td>\n",
       "      <td>...</td>\n",
       "      <td>...</td>\n",
       "      <td>...</td>\n",
       "      <td>...</td>\n",
       "      <td>...</td>\n",
       "      <td>...</td>\n",
       "      <td>...</td>\n",
       "      <td>...</td>\n",
       "      <td>...</td>\n",
       "      <td>...</td>\n",
       "    </tr>\n",
       "    <tr>\n",
       "      <th>913</th>\n",
       "      <td>45</td>\n",
       "      <td>110</td>\n",
       "      <td>264</td>\n",
       "      <td>0</td>\n",
       "      <td>132</td>\n",
       "      <td>1.2</td>\n",
       "      <td>0</td>\n",
       "      <td>1</td>\n",
       "      <td>0</td>\n",
       "      <td>0</td>\n",
       "      <td>...</td>\n",
       "      <td>1</td>\n",
       "      <td>0</td>\n",
       "      <td>1</td>\n",
       "      <td>0</td>\n",
       "      <td>0</td>\n",
       "      <td>1</td>\n",
       "      <td>0</td>\n",
       "      <td>1</td>\n",
       "      <td>0</td>\n",
       "      <td>0</td>\n",
       "    </tr>\n",
       "    <tr>\n",
       "      <th>914</th>\n",
       "      <td>68</td>\n",
       "      <td>144</td>\n",
       "      <td>193</td>\n",
       "      <td>1</td>\n",
       "      <td>141</td>\n",
       "      <td>3.4</td>\n",
       "      <td>0</td>\n",
       "      <td>1</td>\n",
       "      <td>1</td>\n",
       "      <td>0</td>\n",
       "      <td>...</td>\n",
       "      <td>1</td>\n",
       "      <td>0</td>\n",
       "      <td>1</td>\n",
       "      <td>0</td>\n",
       "      <td>0</td>\n",
       "      <td>1</td>\n",
       "      <td>0</td>\n",
       "      <td>0</td>\n",
       "      <td>0</td>\n",
       "      <td>1</td>\n",
       "    </tr>\n",
       "    <tr>\n",
       "      <th>915</th>\n",
       "      <td>57</td>\n",
       "      <td>130</td>\n",
       "      <td>131</td>\n",
       "      <td>0</td>\n",
       "      <td>115</td>\n",
       "      <td>1.2</td>\n",
       "      <td>0</td>\n",
       "      <td>1</td>\n",
       "      <td>1</td>\n",
       "      <td>0</td>\n",
       "      <td>...</td>\n",
       "      <td>1</td>\n",
       "      <td>0</td>\n",
       "      <td>0</td>\n",
       "      <td>1</td>\n",
       "      <td>0</td>\n",
       "      <td>1</td>\n",
       "      <td>0</td>\n",
       "      <td>0</td>\n",
       "      <td>1</td>\n",
       "      <td>0</td>\n",
       "    </tr>\n",
       "    <tr>\n",
       "      <th>916</th>\n",
       "      <td>57</td>\n",
       "      <td>130</td>\n",
       "      <td>236</td>\n",
       "      <td>0</td>\n",
       "      <td>174</td>\n",
       "      <td>0.0</td>\n",
       "      <td>1</td>\n",
       "      <td>0</td>\n",
       "      <td>0</td>\n",
       "      <td>1</td>\n",
       "      <td>...</td>\n",
       "      <td>0</td>\n",
       "      <td>0</td>\n",
       "      <td>1</td>\n",
       "      <td>0</td>\n",
       "      <td>0</td>\n",
       "      <td>1</td>\n",
       "      <td>0</td>\n",
       "      <td>0</td>\n",
       "      <td>1</td>\n",
       "      <td>0</td>\n",
       "    </tr>\n",
       "    <tr>\n",
       "      <th>917</th>\n",
       "      <td>38</td>\n",
       "      <td>138</td>\n",
       "      <td>175</td>\n",
       "      <td>0</td>\n",
       "      <td>173</td>\n",
       "      <td>0.0</td>\n",
       "      <td>0</td>\n",
       "      <td>1</td>\n",
       "      <td>0</td>\n",
       "      <td>0</td>\n",
       "      <td>...</td>\n",
       "      <td>1</td>\n",
       "      <td>0</td>\n",
       "      <td>1</td>\n",
       "      <td>0</td>\n",
       "      <td>0</td>\n",
       "      <td>0</td>\n",
       "      <td>1</td>\n",
       "      <td>0</td>\n",
       "      <td>1</td>\n",
       "      <td>0</td>\n",
       "    </tr>\n",
       "  </tbody>\n",
       "</table>\n",
       "<p>918 rows × 23 columns</p>\n",
       "</div>"
      ],
      "text/plain": [
       "     Age  RestingBP  Cholesterol  FastingBS  MaxHR  Oldpeak  Sex_F  Sex_M  \\\n",
       "0     40        140          289          0    172      0.0      0      1   \n",
       "1     49        160          180          0    156      1.0      1      0   \n",
       "2     37        130          283          0     98      0.0      0      1   \n",
       "3     48        138          214          0    108      1.5      1      0   \n",
       "4     54        150          195          0    122      0.0      0      1   \n",
       "..   ...        ...          ...        ...    ...      ...    ...    ...   \n",
       "913   45        110          264          0    132      1.2      0      1   \n",
       "914   68        144          193          1    141      3.4      0      1   \n",
       "915   57        130          131          0    115      1.2      0      1   \n",
       "916   57        130          236          0    174      0.0      1      0   \n",
       "917   38        138          175          0    173      0.0      0      1   \n",
       "\n",
       "     CPT_ASY  CPT_ATA  ...  RECG_Normal  RECG_ST  EA_N  EA_Y  ST_S_Down  \\\n",
       "0          0        1  ...            1        0     1     0          0   \n",
       "1          0        0  ...            1        0     1     0          0   \n",
       "2          0        1  ...            0        1     1     0          0   \n",
       "3          1        0  ...            1        0     0     1          0   \n",
       "4          0        0  ...            1        0     1     0          0   \n",
       "..       ...      ...  ...          ...      ...   ...   ...        ...   \n",
       "913        0        0  ...            1        0     1     0          0   \n",
       "914        1        0  ...            1        0     1     0          0   \n",
       "915        1        0  ...            1        0     0     1          0   \n",
       "916        0        1  ...            0        0     1     0          0   \n",
       "917        0        0  ...            1        0     1     0          0   \n",
       "\n",
       "     ST_S_Flat  ST_S_Up  normal_BP  atRisk_BP  high_BP  \n",
       "0            0        1          0          0        1  \n",
       "1            1        0          0          0        1  \n",
       "2            0        1          0          1        0  \n",
       "3            1        0          0          1        0  \n",
       "4            0        1          0          0        1  \n",
       "..         ...      ...        ...        ...      ...  \n",
       "913          1        0          1          0        0  \n",
       "914          1        0          0          0        1  \n",
       "915          1        0          0          1        0  \n",
       "916          1        0          0          1        0  \n",
       "917          0        1          0          1        0  \n",
       "\n",
       "[918 rows x 23 columns]"
      ]
     },
     "execution_count": 503,
     "metadata": {},
     "output_type": "execute_result"
    }
   ],
   "source": [
    "df"
   ]
  },
  {
   "cell_type": "code",
   "execution_count": 504,
   "id": "d31fbcc4",
   "metadata": {},
   "outputs": [],
   "source": [
    "df[\"desirable_cholesterol\"] = 0 #creating arrays for indicator Cholesterol data in 3 ranges \n",
    "df[\"borderline_cholesterol\"] = 0\n",
    "df[\"high_cholesterol\"] = 0"
   ]
  },
  {
   "cell_type": "code",
   "execution_count": 505,
   "id": "9a8b64bb",
   "metadata": {},
   "outputs": [
    {
     "name": "stderr",
     "output_type": "stream",
     "text": [
      "/Users/adityasyam/opt/anaconda3/lib/python3.8/site-packages/pandas/core/indexing.py:1637: SettingWithCopyWarning: \n",
      "A value is trying to be set on a copy of a slice from a DataFrame\n",
      "\n",
      "See the caveats in the documentation: https://pandas.pydata.org/pandas-docs/stable/user_guide/indexing.html#returning-a-view-versus-a-copy\n",
      "  self._setitem_single_block(indexer, value, name)\n"
     ]
    }
   ],
   "source": [
    "for i in range(len(df.index)): #dividing each person into three categories of Cholesterol\n",
    "    if (df.Cholesterol.iloc[i] < 200):\n",
    "        df[\"desirable_cholesterol\"].iloc[i] = 1\n",
    "    elif (df.Cholesterol.iloc[i] >= 200 and df.Cholesterol.iloc[i] <= 239):\n",
    "        df[\"borderline_cholesterol\"].iloc[i] =1\n",
    "    else:\n",
    "        df[\"high_cholesterol\"].iloc[i] = 1"
   ]
  },
  {
   "cell_type": "code",
   "execution_count": 506,
   "id": "9b82f5a6",
   "metadata": {},
   "outputs": [
    {
     "data": {
      "text/html": [
       "<div>\n",
       "<style scoped>\n",
       "    .dataframe tbody tr th:only-of-type {\n",
       "        vertical-align: middle;\n",
       "    }\n",
       "\n",
       "    .dataframe tbody tr th {\n",
       "        vertical-align: top;\n",
       "    }\n",
       "\n",
       "    .dataframe thead th {\n",
       "        text-align: right;\n",
       "    }\n",
       "</style>\n",
       "<table border=\"1\" class=\"dataframe\">\n",
       "  <thead>\n",
       "    <tr style=\"text-align: right;\">\n",
       "      <th></th>\n",
       "      <th>Age</th>\n",
       "      <th>RestingBP</th>\n",
       "      <th>Cholesterol</th>\n",
       "      <th>FastingBS</th>\n",
       "      <th>MaxHR</th>\n",
       "      <th>Oldpeak</th>\n",
       "      <th>Sex_F</th>\n",
       "      <th>Sex_M</th>\n",
       "      <th>CPT_ASY</th>\n",
       "      <th>CPT_ATA</th>\n",
       "      <th>...</th>\n",
       "      <th>EA_Y</th>\n",
       "      <th>ST_S_Down</th>\n",
       "      <th>ST_S_Flat</th>\n",
       "      <th>ST_S_Up</th>\n",
       "      <th>normal_BP</th>\n",
       "      <th>atRisk_BP</th>\n",
       "      <th>high_BP</th>\n",
       "      <th>desirable_cholesterol</th>\n",
       "      <th>borderline_cholesterol</th>\n",
       "      <th>high_cholesterol</th>\n",
       "    </tr>\n",
       "  </thead>\n",
       "  <tbody>\n",
       "    <tr>\n",
       "      <th>0</th>\n",
       "      <td>40</td>\n",
       "      <td>140</td>\n",
       "      <td>289</td>\n",
       "      <td>0</td>\n",
       "      <td>172</td>\n",
       "      <td>0.0</td>\n",
       "      <td>0</td>\n",
       "      <td>1</td>\n",
       "      <td>0</td>\n",
       "      <td>1</td>\n",
       "      <td>...</td>\n",
       "      <td>0</td>\n",
       "      <td>0</td>\n",
       "      <td>0</td>\n",
       "      <td>1</td>\n",
       "      <td>0</td>\n",
       "      <td>0</td>\n",
       "      <td>1</td>\n",
       "      <td>0</td>\n",
       "      <td>0</td>\n",
       "      <td>1</td>\n",
       "    </tr>\n",
       "    <tr>\n",
       "      <th>1</th>\n",
       "      <td>49</td>\n",
       "      <td>160</td>\n",
       "      <td>180</td>\n",
       "      <td>0</td>\n",
       "      <td>156</td>\n",
       "      <td>1.0</td>\n",
       "      <td>1</td>\n",
       "      <td>0</td>\n",
       "      <td>0</td>\n",
       "      <td>0</td>\n",
       "      <td>...</td>\n",
       "      <td>0</td>\n",
       "      <td>0</td>\n",
       "      <td>1</td>\n",
       "      <td>0</td>\n",
       "      <td>0</td>\n",
       "      <td>0</td>\n",
       "      <td>1</td>\n",
       "      <td>1</td>\n",
       "      <td>0</td>\n",
       "      <td>0</td>\n",
       "    </tr>\n",
       "    <tr>\n",
       "      <th>2</th>\n",
       "      <td>37</td>\n",
       "      <td>130</td>\n",
       "      <td>283</td>\n",
       "      <td>0</td>\n",
       "      <td>98</td>\n",
       "      <td>0.0</td>\n",
       "      <td>0</td>\n",
       "      <td>1</td>\n",
       "      <td>0</td>\n",
       "      <td>1</td>\n",
       "      <td>...</td>\n",
       "      <td>0</td>\n",
       "      <td>0</td>\n",
       "      <td>0</td>\n",
       "      <td>1</td>\n",
       "      <td>0</td>\n",
       "      <td>1</td>\n",
       "      <td>0</td>\n",
       "      <td>0</td>\n",
       "      <td>0</td>\n",
       "      <td>1</td>\n",
       "    </tr>\n",
       "    <tr>\n",
       "      <th>3</th>\n",
       "      <td>48</td>\n",
       "      <td>138</td>\n",
       "      <td>214</td>\n",
       "      <td>0</td>\n",
       "      <td>108</td>\n",
       "      <td>1.5</td>\n",
       "      <td>1</td>\n",
       "      <td>0</td>\n",
       "      <td>1</td>\n",
       "      <td>0</td>\n",
       "      <td>...</td>\n",
       "      <td>1</td>\n",
       "      <td>0</td>\n",
       "      <td>1</td>\n",
       "      <td>0</td>\n",
       "      <td>0</td>\n",
       "      <td>1</td>\n",
       "      <td>0</td>\n",
       "      <td>0</td>\n",
       "      <td>1</td>\n",
       "      <td>0</td>\n",
       "    </tr>\n",
       "    <tr>\n",
       "      <th>4</th>\n",
       "      <td>54</td>\n",
       "      <td>150</td>\n",
       "      <td>195</td>\n",
       "      <td>0</td>\n",
       "      <td>122</td>\n",
       "      <td>0.0</td>\n",
       "      <td>0</td>\n",
       "      <td>1</td>\n",
       "      <td>0</td>\n",
       "      <td>0</td>\n",
       "      <td>...</td>\n",
       "      <td>0</td>\n",
       "      <td>0</td>\n",
       "      <td>0</td>\n",
       "      <td>1</td>\n",
       "      <td>0</td>\n",
       "      <td>0</td>\n",
       "      <td>1</td>\n",
       "      <td>1</td>\n",
       "      <td>0</td>\n",
       "      <td>0</td>\n",
       "    </tr>\n",
       "    <tr>\n",
       "      <th>...</th>\n",
       "      <td>...</td>\n",
       "      <td>...</td>\n",
       "      <td>...</td>\n",
       "      <td>...</td>\n",
       "      <td>...</td>\n",
       "      <td>...</td>\n",
       "      <td>...</td>\n",
       "      <td>...</td>\n",
       "      <td>...</td>\n",
       "      <td>...</td>\n",
       "      <td>...</td>\n",
       "      <td>...</td>\n",
       "      <td>...</td>\n",
       "      <td>...</td>\n",
       "      <td>...</td>\n",
       "      <td>...</td>\n",
       "      <td>...</td>\n",
       "      <td>...</td>\n",
       "      <td>...</td>\n",
       "      <td>...</td>\n",
       "      <td>...</td>\n",
       "    </tr>\n",
       "    <tr>\n",
       "      <th>913</th>\n",
       "      <td>45</td>\n",
       "      <td>110</td>\n",
       "      <td>264</td>\n",
       "      <td>0</td>\n",
       "      <td>132</td>\n",
       "      <td>1.2</td>\n",
       "      <td>0</td>\n",
       "      <td>1</td>\n",
       "      <td>0</td>\n",
       "      <td>0</td>\n",
       "      <td>...</td>\n",
       "      <td>0</td>\n",
       "      <td>0</td>\n",
       "      <td>1</td>\n",
       "      <td>0</td>\n",
       "      <td>1</td>\n",
       "      <td>0</td>\n",
       "      <td>0</td>\n",
       "      <td>0</td>\n",
       "      <td>0</td>\n",
       "      <td>1</td>\n",
       "    </tr>\n",
       "    <tr>\n",
       "      <th>914</th>\n",
       "      <td>68</td>\n",
       "      <td>144</td>\n",
       "      <td>193</td>\n",
       "      <td>1</td>\n",
       "      <td>141</td>\n",
       "      <td>3.4</td>\n",
       "      <td>0</td>\n",
       "      <td>1</td>\n",
       "      <td>1</td>\n",
       "      <td>0</td>\n",
       "      <td>...</td>\n",
       "      <td>0</td>\n",
       "      <td>0</td>\n",
       "      <td>1</td>\n",
       "      <td>0</td>\n",
       "      <td>0</td>\n",
       "      <td>0</td>\n",
       "      <td>1</td>\n",
       "      <td>1</td>\n",
       "      <td>0</td>\n",
       "      <td>0</td>\n",
       "    </tr>\n",
       "    <tr>\n",
       "      <th>915</th>\n",
       "      <td>57</td>\n",
       "      <td>130</td>\n",
       "      <td>131</td>\n",
       "      <td>0</td>\n",
       "      <td>115</td>\n",
       "      <td>1.2</td>\n",
       "      <td>0</td>\n",
       "      <td>1</td>\n",
       "      <td>1</td>\n",
       "      <td>0</td>\n",
       "      <td>...</td>\n",
       "      <td>1</td>\n",
       "      <td>0</td>\n",
       "      <td>1</td>\n",
       "      <td>0</td>\n",
       "      <td>0</td>\n",
       "      <td>1</td>\n",
       "      <td>0</td>\n",
       "      <td>1</td>\n",
       "      <td>0</td>\n",
       "      <td>0</td>\n",
       "    </tr>\n",
       "    <tr>\n",
       "      <th>916</th>\n",
       "      <td>57</td>\n",
       "      <td>130</td>\n",
       "      <td>236</td>\n",
       "      <td>0</td>\n",
       "      <td>174</td>\n",
       "      <td>0.0</td>\n",
       "      <td>1</td>\n",
       "      <td>0</td>\n",
       "      <td>0</td>\n",
       "      <td>1</td>\n",
       "      <td>...</td>\n",
       "      <td>0</td>\n",
       "      <td>0</td>\n",
       "      <td>1</td>\n",
       "      <td>0</td>\n",
       "      <td>0</td>\n",
       "      <td>1</td>\n",
       "      <td>0</td>\n",
       "      <td>0</td>\n",
       "      <td>1</td>\n",
       "      <td>0</td>\n",
       "    </tr>\n",
       "    <tr>\n",
       "      <th>917</th>\n",
       "      <td>38</td>\n",
       "      <td>138</td>\n",
       "      <td>175</td>\n",
       "      <td>0</td>\n",
       "      <td>173</td>\n",
       "      <td>0.0</td>\n",
       "      <td>0</td>\n",
       "      <td>1</td>\n",
       "      <td>0</td>\n",
       "      <td>0</td>\n",
       "      <td>...</td>\n",
       "      <td>0</td>\n",
       "      <td>0</td>\n",
       "      <td>0</td>\n",
       "      <td>1</td>\n",
       "      <td>0</td>\n",
       "      <td>1</td>\n",
       "      <td>0</td>\n",
       "      <td>1</td>\n",
       "      <td>0</td>\n",
       "      <td>0</td>\n",
       "    </tr>\n",
       "  </tbody>\n",
       "</table>\n",
       "<p>918 rows × 26 columns</p>\n",
       "</div>"
      ],
      "text/plain": [
       "     Age  RestingBP  Cholesterol  FastingBS  MaxHR  Oldpeak  Sex_F  Sex_M  \\\n",
       "0     40        140          289          0    172      0.0      0      1   \n",
       "1     49        160          180          0    156      1.0      1      0   \n",
       "2     37        130          283          0     98      0.0      0      1   \n",
       "3     48        138          214          0    108      1.5      1      0   \n",
       "4     54        150          195          0    122      0.0      0      1   \n",
       "..   ...        ...          ...        ...    ...      ...    ...    ...   \n",
       "913   45        110          264          0    132      1.2      0      1   \n",
       "914   68        144          193          1    141      3.4      0      1   \n",
       "915   57        130          131          0    115      1.2      0      1   \n",
       "916   57        130          236          0    174      0.0      1      0   \n",
       "917   38        138          175          0    173      0.0      0      1   \n",
       "\n",
       "     CPT_ASY  CPT_ATA  ...  EA_Y  ST_S_Down  ST_S_Flat  ST_S_Up  normal_BP  \\\n",
       "0          0        1  ...     0          0          0        1          0   \n",
       "1          0        0  ...     0          0          1        0          0   \n",
       "2          0        1  ...     0          0          0        1          0   \n",
       "3          1        0  ...     1          0          1        0          0   \n",
       "4          0        0  ...     0          0          0        1          0   \n",
       "..       ...      ...  ...   ...        ...        ...      ...        ...   \n",
       "913        0        0  ...     0          0          1        0          1   \n",
       "914        1        0  ...     0          0          1        0          0   \n",
       "915        1        0  ...     1          0          1        0          0   \n",
       "916        0        1  ...     0          0          1        0          0   \n",
       "917        0        0  ...     0          0          0        1          0   \n",
       "\n",
       "     atRisk_BP  high_BP  desirable_cholesterol  borderline_cholesterol  \\\n",
       "0            0        1                      0                       0   \n",
       "1            0        1                      1                       0   \n",
       "2            1        0                      0                       0   \n",
       "3            1        0                      0                       1   \n",
       "4            0        1                      1                       0   \n",
       "..         ...      ...                    ...                     ...   \n",
       "913          0        0                      0                       0   \n",
       "914          0        1                      1                       0   \n",
       "915          1        0                      1                       0   \n",
       "916          1        0                      0                       1   \n",
       "917          1        0                      1                       0   \n",
       "\n",
       "     high_cholesterol  \n",
       "0                   1  \n",
       "1                   0  \n",
       "2                   1  \n",
       "3                   0  \n",
       "4                   0  \n",
       "..                ...  \n",
       "913                 1  \n",
       "914                 0  \n",
       "915                 0  \n",
       "916                 0  \n",
       "917                 0  \n",
       "\n",
       "[918 rows x 26 columns]"
      ]
     },
     "execution_count": 506,
     "metadata": {},
     "output_type": "execute_result"
    }
   ],
   "source": [
    "df"
   ]
  },
  {
   "cell_type": "code",
   "execution_count": 507,
   "id": "91265638",
   "metadata": {},
   "outputs": [
    {
     "data": {
      "text/html": [
       "<div>\n",
       "<style scoped>\n",
       "    .dataframe tbody tr th:only-of-type {\n",
       "        vertical-align: middle;\n",
       "    }\n",
       "\n",
       "    .dataframe tbody tr th {\n",
       "        vertical-align: top;\n",
       "    }\n",
       "\n",
       "    .dataframe thead th {\n",
       "        text-align: right;\n",
       "    }\n",
       "</style>\n",
       "<table border=\"1\" class=\"dataframe\">\n",
       "  <thead>\n",
       "    <tr style=\"text-align: right;\">\n",
       "      <th></th>\n",
       "      <th>Age</th>\n",
       "      <th>Sex</th>\n",
       "      <th>ChestPainType</th>\n",
       "      <th>RestingBP</th>\n",
       "      <th>Cholesterol</th>\n",
       "      <th>FastingBS</th>\n",
       "      <th>RestingECG</th>\n",
       "      <th>MaxHR</th>\n",
       "      <th>ExerciseAngina</th>\n",
       "      <th>Oldpeak</th>\n",
       "      <th>ST_Slope</th>\n",
       "      <th>HeartDisease</th>\n",
       "    </tr>\n",
       "  </thead>\n",
       "  <tbody>\n",
       "    <tr>\n",
       "      <th>0</th>\n",
       "      <td>40</td>\n",
       "      <td>M</td>\n",
       "      <td>ATA</td>\n",
       "      <td>140</td>\n",
       "      <td>289</td>\n",
       "      <td>0</td>\n",
       "      <td>Normal</td>\n",
       "      <td>172</td>\n",
       "      <td>N</td>\n",
       "      <td>0.0</td>\n",
       "      <td>Up</td>\n",
       "      <td>0</td>\n",
       "    </tr>\n",
       "    <tr>\n",
       "      <th>1</th>\n",
       "      <td>49</td>\n",
       "      <td>F</td>\n",
       "      <td>NAP</td>\n",
       "      <td>160</td>\n",
       "      <td>180</td>\n",
       "      <td>0</td>\n",
       "      <td>Normal</td>\n",
       "      <td>156</td>\n",
       "      <td>N</td>\n",
       "      <td>1.0</td>\n",
       "      <td>Flat</td>\n",
       "      <td>1</td>\n",
       "    </tr>\n",
       "    <tr>\n",
       "      <th>2</th>\n",
       "      <td>37</td>\n",
       "      <td>M</td>\n",
       "      <td>ATA</td>\n",
       "      <td>130</td>\n",
       "      <td>283</td>\n",
       "      <td>0</td>\n",
       "      <td>ST</td>\n",
       "      <td>98</td>\n",
       "      <td>N</td>\n",
       "      <td>0.0</td>\n",
       "      <td>Up</td>\n",
       "      <td>0</td>\n",
       "    </tr>\n",
       "    <tr>\n",
       "      <th>3</th>\n",
       "      <td>48</td>\n",
       "      <td>F</td>\n",
       "      <td>ASY</td>\n",
       "      <td>138</td>\n",
       "      <td>214</td>\n",
       "      <td>0</td>\n",
       "      <td>Normal</td>\n",
       "      <td>108</td>\n",
       "      <td>Y</td>\n",
       "      <td>1.5</td>\n",
       "      <td>Flat</td>\n",
       "      <td>1</td>\n",
       "    </tr>\n",
       "    <tr>\n",
       "      <th>4</th>\n",
       "      <td>54</td>\n",
       "      <td>M</td>\n",
       "      <td>NAP</td>\n",
       "      <td>150</td>\n",
       "      <td>195</td>\n",
       "      <td>0</td>\n",
       "      <td>Normal</td>\n",
       "      <td>122</td>\n",
       "      <td>N</td>\n",
       "      <td>0.0</td>\n",
       "      <td>Up</td>\n",
       "      <td>0</td>\n",
       "    </tr>\n",
       "    <tr>\n",
       "      <th>...</th>\n",
       "      <td>...</td>\n",
       "      <td>...</td>\n",
       "      <td>...</td>\n",
       "      <td>...</td>\n",
       "      <td>...</td>\n",
       "      <td>...</td>\n",
       "      <td>...</td>\n",
       "      <td>...</td>\n",
       "      <td>...</td>\n",
       "      <td>...</td>\n",
       "      <td>...</td>\n",
       "      <td>...</td>\n",
       "    </tr>\n",
       "    <tr>\n",
       "      <th>913</th>\n",
       "      <td>45</td>\n",
       "      <td>M</td>\n",
       "      <td>TA</td>\n",
       "      <td>110</td>\n",
       "      <td>264</td>\n",
       "      <td>0</td>\n",
       "      <td>Normal</td>\n",
       "      <td>132</td>\n",
       "      <td>N</td>\n",
       "      <td>1.2</td>\n",
       "      <td>Flat</td>\n",
       "      <td>1</td>\n",
       "    </tr>\n",
       "    <tr>\n",
       "      <th>914</th>\n",
       "      <td>68</td>\n",
       "      <td>M</td>\n",
       "      <td>ASY</td>\n",
       "      <td>144</td>\n",
       "      <td>193</td>\n",
       "      <td>1</td>\n",
       "      <td>Normal</td>\n",
       "      <td>141</td>\n",
       "      <td>N</td>\n",
       "      <td>3.4</td>\n",
       "      <td>Flat</td>\n",
       "      <td>1</td>\n",
       "    </tr>\n",
       "    <tr>\n",
       "      <th>915</th>\n",
       "      <td>57</td>\n",
       "      <td>M</td>\n",
       "      <td>ASY</td>\n",
       "      <td>130</td>\n",
       "      <td>131</td>\n",
       "      <td>0</td>\n",
       "      <td>Normal</td>\n",
       "      <td>115</td>\n",
       "      <td>Y</td>\n",
       "      <td>1.2</td>\n",
       "      <td>Flat</td>\n",
       "      <td>1</td>\n",
       "    </tr>\n",
       "    <tr>\n",
       "      <th>916</th>\n",
       "      <td>57</td>\n",
       "      <td>F</td>\n",
       "      <td>ATA</td>\n",
       "      <td>130</td>\n",
       "      <td>236</td>\n",
       "      <td>0</td>\n",
       "      <td>LVH</td>\n",
       "      <td>174</td>\n",
       "      <td>N</td>\n",
       "      <td>0.0</td>\n",
       "      <td>Flat</td>\n",
       "      <td>1</td>\n",
       "    </tr>\n",
       "    <tr>\n",
       "      <th>917</th>\n",
       "      <td>38</td>\n",
       "      <td>M</td>\n",
       "      <td>NAP</td>\n",
       "      <td>138</td>\n",
       "      <td>175</td>\n",
       "      <td>0</td>\n",
       "      <td>Normal</td>\n",
       "      <td>173</td>\n",
       "      <td>N</td>\n",
       "      <td>0.0</td>\n",
       "      <td>Up</td>\n",
       "      <td>0</td>\n",
       "    </tr>\n",
       "  </tbody>\n",
       "</table>\n",
       "<p>918 rows × 12 columns</p>\n",
       "</div>"
      ],
      "text/plain": [
       "     Age Sex ChestPainType  RestingBP  Cholesterol  FastingBS RestingECG  \\\n",
       "0     40   M           ATA        140          289          0     Normal   \n",
       "1     49   F           NAP        160          180          0     Normal   \n",
       "2     37   M           ATA        130          283          0         ST   \n",
       "3     48   F           ASY        138          214          0     Normal   \n",
       "4     54   M           NAP        150          195          0     Normal   \n",
       "..   ...  ..           ...        ...          ...        ...        ...   \n",
       "913   45   M            TA        110          264          0     Normal   \n",
       "914   68   M           ASY        144          193          1     Normal   \n",
       "915   57   M           ASY        130          131          0     Normal   \n",
       "916   57   F           ATA        130          236          0        LVH   \n",
       "917   38   M           NAP        138          175          0     Normal   \n",
       "\n",
       "     MaxHR ExerciseAngina  Oldpeak ST_Slope  HeartDisease  \n",
       "0      172              N      0.0       Up             0  \n",
       "1      156              N      1.0     Flat             1  \n",
       "2       98              N      0.0       Up             0  \n",
       "3      108              Y      1.5     Flat             1  \n",
       "4      122              N      0.0       Up             0  \n",
       "..     ...            ...      ...      ...           ...  \n",
       "913    132              N      1.2     Flat             1  \n",
       "914    141              N      3.4     Flat             1  \n",
       "915    115              Y      1.2     Flat             1  \n",
       "916    174              N      0.0     Flat             1  \n",
       "917    173              N      0.0       Up             0  \n",
       "\n",
       "[918 rows x 12 columns]"
      ]
     },
     "execution_count": 507,
     "metadata": {},
     "output_type": "execute_result"
    }
   ],
   "source": [
    "copydata #checking that the original data has been maintained in a copy"
   ]
  },
  {
   "cell_type": "code",
   "execution_count": 508,
   "id": "0e69c1bc",
   "metadata": {},
   "outputs": [
    {
     "data": {
      "text/html": [
       "<div>\n",
       "<style scoped>\n",
       "    .dataframe tbody tr th:only-of-type {\n",
       "        vertical-align: middle;\n",
       "    }\n",
       "\n",
       "    .dataframe tbody tr th {\n",
       "        vertical-align: top;\n",
       "    }\n",
       "\n",
       "    .dataframe thead th {\n",
       "        text-align: right;\n",
       "    }\n",
       "</style>\n",
       "<table border=\"1\" class=\"dataframe\">\n",
       "  <thead>\n",
       "    <tr style=\"text-align: right;\">\n",
       "      <th></th>\n",
       "      <th>Age</th>\n",
       "      <th>Sex</th>\n",
       "      <th>ChestPainType</th>\n",
       "      <th>RestingBP</th>\n",
       "      <th>Cholesterol</th>\n",
       "      <th>FastingBS</th>\n",
       "      <th>RestingECG</th>\n",
       "      <th>MaxHR</th>\n",
       "      <th>ExerciseAngina</th>\n",
       "      <th>Oldpeak</th>\n",
       "      <th>ST_Slope</th>\n",
       "    </tr>\n",
       "  </thead>\n",
       "  <tbody>\n",
       "    <tr>\n",
       "      <th>0</th>\n",
       "      <td>40</td>\n",
       "      <td>M</td>\n",
       "      <td>ATA</td>\n",
       "      <td>140</td>\n",
       "      <td>289</td>\n",
       "      <td>0</td>\n",
       "      <td>Normal</td>\n",
       "      <td>172</td>\n",
       "      <td>N</td>\n",
       "      <td>0.0</td>\n",
       "      <td>Up</td>\n",
       "    </tr>\n",
       "    <tr>\n",
       "      <th>1</th>\n",
       "      <td>49</td>\n",
       "      <td>F</td>\n",
       "      <td>NAP</td>\n",
       "      <td>160</td>\n",
       "      <td>180</td>\n",
       "      <td>0</td>\n",
       "      <td>Normal</td>\n",
       "      <td>156</td>\n",
       "      <td>N</td>\n",
       "      <td>1.0</td>\n",
       "      <td>Flat</td>\n",
       "    </tr>\n",
       "    <tr>\n",
       "      <th>2</th>\n",
       "      <td>37</td>\n",
       "      <td>M</td>\n",
       "      <td>ATA</td>\n",
       "      <td>130</td>\n",
       "      <td>283</td>\n",
       "      <td>0</td>\n",
       "      <td>ST</td>\n",
       "      <td>98</td>\n",
       "      <td>N</td>\n",
       "      <td>0.0</td>\n",
       "      <td>Up</td>\n",
       "    </tr>\n",
       "    <tr>\n",
       "      <th>3</th>\n",
       "      <td>48</td>\n",
       "      <td>F</td>\n",
       "      <td>ASY</td>\n",
       "      <td>138</td>\n",
       "      <td>214</td>\n",
       "      <td>0</td>\n",
       "      <td>Normal</td>\n",
       "      <td>108</td>\n",
       "      <td>Y</td>\n",
       "      <td>1.5</td>\n",
       "      <td>Flat</td>\n",
       "    </tr>\n",
       "    <tr>\n",
       "      <th>4</th>\n",
       "      <td>54</td>\n",
       "      <td>M</td>\n",
       "      <td>NAP</td>\n",
       "      <td>150</td>\n",
       "      <td>195</td>\n",
       "      <td>0</td>\n",
       "      <td>Normal</td>\n",
       "      <td>122</td>\n",
       "      <td>N</td>\n",
       "      <td>0.0</td>\n",
       "      <td>Up</td>\n",
       "    </tr>\n",
       "    <tr>\n",
       "      <th>...</th>\n",
       "      <td>...</td>\n",
       "      <td>...</td>\n",
       "      <td>...</td>\n",
       "      <td>...</td>\n",
       "      <td>...</td>\n",
       "      <td>...</td>\n",
       "      <td>...</td>\n",
       "      <td>...</td>\n",
       "      <td>...</td>\n",
       "      <td>...</td>\n",
       "      <td>...</td>\n",
       "    </tr>\n",
       "    <tr>\n",
       "      <th>913</th>\n",
       "      <td>45</td>\n",
       "      <td>M</td>\n",
       "      <td>TA</td>\n",
       "      <td>110</td>\n",
       "      <td>264</td>\n",
       "      <td>0</td>\n",
       "      <td>Normal</td>\n",
       "      <td>132</td>\n",
       "      <td>N</td>\n",
       "      <td>1.2</td>\n",
       "      <td>Flat</td>\n",
       "    </tr>\n",
       "    <tr>\n",
       "      <th>914</th>\n",
       "      <td>68</td>\n",
       "      <td>M</td>\n",
       "      <td>ASY</td>\n",
       "      <td>144</td>\n",
       "      <td>193</td>\n",
       "      <td>1</td>\n",
       "      <td>Normal</td>\n",
       "      <td>141</td>\n",
       "      <td>N</td>\n",
       "      <td>3.4</td>\n",
       "      <td>Flat</td>\n",
       "    </tr>\n",
       "    <tr>\n",
       "      <th>915</th>\n",
       "      <td>57</td>\n",
       "      <td>M</td>\n",
       "      <td>ASY</td>\n",
       "      <td>130</td>\n",
       "      <td>131</td>\n",
       "      <td>0</td>\n",
       "      <td>Normal</td>\n",
       "      <td>115</td>\n",
       "      <td>Y</td>\n",
       "      <td>1.2</td>\n",
       "      <td>Flat</td>\n",
       "    </tr>\n",
       "    <tr>\n",
       "      <th>916</th>\n",
       "      <td>57</td>\n",
       "      <td>F</td>\n",
       "      <td>ATA</td>\n",
       "      <td>130</td>\n",
       "      <td>236</td>\n",
       "      <td>0</td>\n",
       "      <td>LVH</td>\n",
       "      <td>174</td>\n",
       "      <td>N</td>\n",
       "      <td>0.0</td>\n",
       "      <td>Flat</td>\n",
       "    </tr>\n",
       "    <tr>\n",
       "      <th>917</th>\n",
       "      <td>38</td>\n",
       "      <td>M</td>\n",
       "      <td>NAP</td>\n",
       "      <td>138</td>\n",
       "      <td>175</td>\n",
       "      <td>0</td>\n",
       "      <td>Normal</td>\n",
       "      <td>173</td>\n",
       "      <td>N</td>\n",
       "      <td>0.0</td>\n",
       "      <td>Up</td>\n",
       "    </tr>\n",
       "  </tbody>\n",
       "</table>\n",
       "<p>918 rows × 11 columns</p>\n",
       "</div>"
      ],
      "text/plain": [
       "     Age Sex ChestPainType  RestingBP  Cholesterol  FastingBS RestingECG  \\\n",
       "0     40   M           ATA        140          289          0     Normal   \n",
       "1     49   F           NAP        160          180          0     Normal   \n",
       "2     37   M           ATA        130          283          0         ST   \n",
       "3     48   F           ASY        138          214          0     Normal   \n",
       "4     54   M           NAP        150          195          0     Normal   \n",
       "..   ...  ..           ...        ...          ...        ...        ...   \n",
       "913   45   M            TA        110          264          0     Normal   \n",
       "914   68   M           ASY        144          193          1     Normal   \n",
       "915   57   M           ASY        130          131          0     Normal   \n",
       "916   57   F           ATA        130          236          0        LVH   \n",
       "917   38   M           NAP        138          175          0     Normal   \n",
       "\n",
       "     MaxHR ExerciseAngina  Oldpeak ST_Slope  \n",
       "0      172              N      0.0       Up  \n",
       "1      156              N      1.0     Flat  \n",
       "2       98              N      0.0       Up  \n",
       "3      108              Y      1.5     Flat  \n",
       "4      122              N      0.0       Up  \n",
       "..     ...            ...      ...      ...  \n",
       "913    132              N      1.2     Flat  \n",
       "914    141              N      3.4     Flat  \n",
       "915    115              Y      1.2     Flat  \n",
       "916    174              N      0.0     Flat  \n",
       "917    173              N      0.0       Up  \n",
       "\n",
       "[918 rows x 11 columns]"
      ]
     },
     "execution_count": 508,
     "metadata": {},
     "output_type": "execute_result"
    }
   ],
   "source": [
    "copyNoHD #checking original data without heart disease column"
   ]
  },
  {
   "cell_type": "code",
   "execution_count": 509,
   "id": "2e802056",
   "metadata": {},
   "outputs": [
    {
     "data": {
      "text/plain": [
       "<bound method DataFrame.info of      Age Sex ChestPainType  RestingBP  Cholesterol  FastingBS RestingECG  \\\n",
       "0     40   M           ATA        140          289          0     Normal   \n",
       "1     49   F           NAP        160          180          0     Normal   \n",
       "2     37   M           ATA        130          283          0         ST   \n",
       "3     48   F           ASY        138          214          0     Normal   \n",
       "4     54   M           NAP        150          195          0     Normal   \n",
       "..   ...  ..           ...        ...          ...        ...        ...   \n",
       "913   45   M            TA        110          264          0     Normal   \n",
       "914   68   M           ASY        144          193          1     Normal   \n",
       "915   57   M           ASY        130          131          0     Normal   \n",
       "916   57   F           ATA        130          236          0        LVH   \n",
       "917   38   M           NAP        138          175          0     Normal   \n",
       "\n",
       "     MaxHR ExerciseAngina  Oldpeak ST_Slope  HeartDisease  \n",
       "0      172              N      0.0       Up             0  \n",
       "1      156              N      1.0     Flat             1  \n",
       "2       98              N      0.0       Up             0  \n",
       "3      108              Y      1.5     Flat             1  \n",
       "4      122              N      0.0       Up             0  \n",
       "..     ...            ...      ...      ...           ...  \n",
       "913    132              N      1.2     Flat             1  \n",
       "914    141              N      3.4     Flat             1  \n",
       "915    115              Y      1.2     Flat             1  \n",
       "916    174              N      0.0     Flat             1  \n",
       "917    173              N      0.0       Up             0  \n",
       "\n",
       "[918 rows x 12 columns]>"
      ]
     },
     "execution_count": 509,
     "metadata": {},
     "output_type": "execute_result"
    }
   ],
   "source": [
    "copydata.info"
   ]
  },
  {
   "cell_type": "markdown",
   "id": "b958df50",
   "metadata": {},
   "source": [
    "VISUALIZATIONS"
   ]
  },
  {
   "cell_type": "code",
   "execution_count": 511,
   "id": "8df81d28",
   "metadata": {},
   "outputs": [
    {
     "data": {
      "text/plain": [
       "<AxesSubplot:title={'center':'Histogram of the Age of Heart Patients, with respect to Heart Disease'}, xlabel='Age', ylabel='Frequency'>"
      ]
     },
     "execution_count": 511,
     "metadata": {},
     "output_type": "execute_result"
    },
    {
     "data": {
      "image/png": "[encoded data removed]",
      "text/plain": [
       "<Figure size 720x576 with 1 Axes>"
      ]
     },
     "metadata": {},
     "output_type": "display_data"
    }
   ],
   "source": [
    "plt.figure(figsize=(10,8))\n",
    "plt.title('Histogram of the Age of Heart Patients, with respect to Heart Disease')\n",
    "plt.ylabel('Frequency')\n",
    "sns.histplot(x='Age', data=copydata, hue='HeartDisease', binwidth=2, kde=True, color='red', line_kws= {'linestyle': 'dashed'})"
   ]
  },
  {
   "cell_type": "markdown",
   "id": "9bd88b8f",
   "metadata": {},
   "source": [
    "From the above histograms, it is clear that people in their middles age years, specifically the middle 50% of subjects with heart diseases are between the ages 47 and 60."
   ]
  },
  {
   "cell_type": "code",
   "execution_count": 512,
   "id": "7e50dd77",
   "metadata": {
    "scrolled": true
   },
   "outputs": [
    {
     "data": {
      "text/plain": [
       "Text(5.960000000000008, 0.5, 'Maximum Heart Rate')"
      ]
     },
     "execution_count": 512,
     "metadata": {},
     "output_type": "execute_result"
    },
    {
     "data": {
      "text/plain": [
       "<Figure size 1080x720 with 0 Axes>"
      ]
     },
     "metadata": {},
     "output_type": "display_data"
    },
    {
     "data": {
      "image/png": "[encoded data removed]",
      "text/plain": [
       "<Figure size 1008x504 with 1 Axes>"
      ]
     },
     "metadata": {},
     "output_type": "display_data"
    }
   ],
   "source": [
    "plt.figure(figsize=(15, 10))\n",
    "sns.lmplot(x='Cholesterol', y='MaxHR', data=copydata, height=7, aspect=2)\n",
    "plt.title('Scatterplot of Max Heart Rate and Cholesterol')\n",
    "plt.ylabel('Maximum Heart Rate')"
   ]
  },
  {
   "cell_type": "markdown",
   "id": "abea5af2",
   "metadata": {},
   "source": [
    "From the above scatter plot, there seems to be a directly proportional relationship between cholesterol and maximum heart rate. This should ideally mean that both these factors would have similar impacts on the probability of heart disease diagnosis."
   ]
  },
  {
   "cell_type": "code",
   "execution_count": 513,
   "id": "3d2de931",
   "metadata": {},
   "outputs": [
    {
     "data": {
      "text/plain": [
       "<AxesSubplot:title={'center':'Relationship between Cholesterol and Heart Disease'}, xlabel='HeartDisease', ylabel='Cholesterol'>"
      ]
     },
     "execution_count": 513,
     "metadata": {},
     "output_type": "execute_result"
    },
    {
     "data": {
      "image/png": "[encoded data removed]",
      "text/plain": [
       "<Figure size 720x504 with 1 Axes>"
      ]
     },
     "metadata": {},
     "output_type": "display_data"
    }
   ],
   "source": [
    "plt.figure(figsize=(10,7))\n",
    "plt.title('Relationship between Cholesterol and Heart Disease')\n",
    "plt.ylabel('Cholesterol Level')\n",
    "sns.violinplot(x='HeartDisease', y='Cholesterol', data=copydata, hue='ExerciseAngina', split=True, scale='count')"
   ]
  },
  {
   "cell_type": "markdown",
   "id": "48c643ea",
   "metadata": {},
   "source": [
    "The above violin plots correlate Heart Disease and Cholestrol, along with the filteration (hue) of Exercise Angina. Based on the visualisations, we can conclude that most subjects with Heart Disease have exercise angina (chest pain). Thus, this is an important determining factor in heart disease, and can be used as an indciator for diagnosis."
   ]
  },
  {
   "cell_type": "code",
   "execution_count": 514,
   "id": "884b1248",
   "metadata": {},
   "outputs": [
    {
     "data": {
      "text/plain": [
       "<seaborn.axisgrid.JointGrid at 0x7fbada48cf40>"
      ]
     },
     "execution_count": 514,
     "metadata": {},
     "output_type": "execute_result"
    },
    {
     "data": {
      "text/plain": [
       "<Figure size 576x360 with 0 Axes>"
      ]
     },
     "metadata": {},
     "output_type": "display_data"
    },
    {
     "data": {
      "image/png": "[encoded data removed]",
      "text/plain": [
       "<Figure size 432x432 with 3 Axes>"
      ]
     },
     "metadata": {},
     "output_type": "display_data"
    }
   ],
   "source": [
    "plt.figure(figsize=(8,5))\n",
    "sns.jointplot(x='Age', y='Cholesterol', data=copydata, kind='kde', fill=True, thresh=0, cmap='Blues')"
   ]
  },
  {
   "cell_type": "markdown",
   "id": "d7a04c1e",
   "metadata": {},
   "source": [
    "The 2D density plot above displays the areas of concentration of the humans who participated in the study with respect to their age and cholestrol. The darker the region on the map, the denser the concentration and, therefore, the higher the frequency of subjects of that age having that cholesterol. \n",
    "It appears that most people suffering from heart disease in our dataset are between the ages of 50 and 60. Also, from the contour patterns, we see that most of the people have a cholesterol between 220-260. Hence, when predicting heart disease, these values for cholesterol and age can be correlated and used in diagnosis."
   ]
  },
  {
   "cell_type": "markdown",
   "id": "204422a7",
   "metadata": {},
   "source": [
    "Credit: Since 2D Densities were not taught in the class, I was looking for a creative way to display this statistic as well.\n",
    "This is when I, looking for inspiration, in the discussion section of Kaggle found similar representations in terms\n",
    "of the skeleton. I then looked for which variables would show the most meaningful correlation and added them to the to the visualisation."
   ]
  },
  {
   "cell_type": "code",
   "execution_count": 515,
   "id": "05122261",
   "metadata": {},
   "outputs": [
    {
     "data": {
      "image/png": "[encoded data removed]",
      "text/plain": [
       "<Figure size 2160x720 with 2 Axes>"
      ]
     },
     "metadata": {},
     "output_type": "display_data"
    }
   ],
   "source": [
    "correlation = copydata.corr(method = 'spearman')\n",
    "plt.figure(figsize=(30,10))\n",
    "sns.heatmap(correlation, annot=True, fmt='.3f', cmap='pink')\n",
    "plt.title('Heatmap')\n",
    "sns.set(font_scale = 1)\n",
    "plt.show()"
   ]
  },
  {
   "cell_type": "markdown",
   "id": "92144ba3",
   "metadata": {},
   "source": [
    "This correlation heat map visualises the connection between all the variables in the dataset. What can be seen with each of the variables correlated to each other makes sense, as the value is 1. Where the correlation is positive, we can conclude there is a proportional relationship, and the same for the negative values. Where the colour is lighter, there is a stronger correlation between variables. For instance, Age and Resting BP when correlated have a relatively weaker correlation than Age and Cholesterol. This can be used to predict heart disease better, as this visualisation gives a coherent picture of the relationship between all variables at once."
   ]
  },
  {
   "cell_type": "markdown",
   "id": "e58bdcce",
   "metadata": {},
   "source": [
    "__________________________________________________________________________________________________________________"
   ]
  },
  {
   "cell_type": "markdown",
   "id": "08f01921",
   "metadata": {},
   "source": [
    "MODELS"
   ]
  },
  {
   "cell_type": "markdown",
   "id": "45093743",
   "metadata": {},
   "source": [
    "kNN Classifier model"
   ]
  },
  {
   "cell_type": "markdown",
   "id": "37810d9f",
   "metadata": {},
   "source": [
    "First, we use a k neighbors classifier model to predict heart disease using continuous data"
   ]
  },
  {
   "cell_type": "code",
   "execution_count": 516,
   "id": "9d8b2b24",
   "metadata": {},
   "outputs": [
    {
     "name": "stdout",
     "output_type": "stream",
     "text": [
      "sklearn's accuracy score for diagnosis: 0.6884531590413944\n"
     ]
    }
   ],
   "source": [
    "X = copydata[['Age', 'Cholesterol', 'RestingBP', 'MaxHR', 'FastingBS']]\n",
    "Y = idealOutput\n",
    "\n",
    "x_train, x_test, y_train, y_test = train_test_split(X, Y, test_size=0.5, random_state=42) \n",
    "\n",
    "model = KNeighborsClassifier()\n",
    "\n",
    "model.fit(x_train, y_train) \n",
    "\n",
    "predictions = model.predict(x_test) \n",
    "\n",
    "print(\"sklearn's accuracy score for diagnosis:\", accuracy_score(y_test, predictions)) "
   ]
  },
  {
   "cell_type": "code",
   "execution_count": 517,
   "id": "82ea2e51",
   "metadata": {},
   "outputs": [
    {
     "name": "stdout",
     "output_type": "stream",
     "text": [
      "accuracy: 0.6884531590413944\n"
     ]
    }
   ],
   "source": [
    "accuracy = accuracy_score(y_test, predictions)\n",
    "print('accuracy:',accuracy)"
   ]
  },
  {
   "cell_type": "markdown",
   "id": "6f85cbca",
   "metadata": {},
   "source": [
    "Next, we check the accuracy scores for different values of k (due to the risk of overfitting)"
   ]
  },
  {
   "cell_type": "code",
   "execution_count": 518,
   "id": "777ca023",
   "metadata": {},
   "outputs": [
    {
     "name": "stdout",
     "output_type": "stream",
     "text": [
      "accuracy score when k=1: 0.6318082788671024\n",
      "accuracy score when k=10: 0.6993464052287581\n",
      "accuracy score when k=100: 0.6993464052287581\n"
     ]
    }
   ],
   "source": [
    "# Model when k=1\n",
    "model1 = KNeighborsClassifier(1)\n",
    "model1.fit(x_train, y_train)\n",
    "predictions1 = model1.predict(x_test)\n",
    "\n",
    "# Model when k=10\n",
    "model10 = KNeighborsClassifier(10)\n",
    "model10.fit(x_train, y_train)\n",
    "predictions10 = model10.predict(x_test)\n",
    "\n",
    "# Model when k=100\n",
    "model100 = KNeighborsClassifier(100)\n",
    "model100.fit(x_train, y_train)\n",
    "predictions100 = model100.predict(x_test)\n",
    "\n",
    "print(\"accuracy score when k=1:\", accuracy_score(y_test, predictions1))\n",
    "print(\"accuracy score when k=10:\", accuracy_score(y_test, predictions10))\n",
    "print(\"accuracy score when k=100:\", accuracy_score(y_test, predictions100))\n"
   ]
  },
  {
   "cell_type": "markdown",
   "id": "804026e7",
   "metadata": {},
   "source": [
    "We also plot the variation in the accuracy with different values of k"
   ]
  },
  {
   "cell_type": "code",
   "execution_count": 519,
   "id": "623db64b",
   "metadata": {},
   "outputs": [],
   "source": [
    "accuracy=[]\n",
    "for i in range(1,51):\n",
    "    model = KNeighborsClassifier(i)\n",
    "    model.fit(x_train, y_train)\n",
    "    predictions = model.predict(x_test)\n",
    "    accuracy.append(accuracy_score(predictions,y_test))"
   ]
  },
  {
   "cell_type": "code",
   "execution_count": 520,
   "id": "2e4b138c",
   "metadata": {},
   "outputs": [
    {
     "data": {
      "image/png": "[encoded data removed]",
      "text/plain": [
       "<Figure size 432x288 with 1 Axes>"
      ]
     },
     "metadata": {},
     "output_type": "display_data"
    }
   ],
   "source": [
    "plt.plot(range(1,51),accuracy)\n",
    "plt.xticks(range(1,51,2),range(1,51,2))\n",
    "plt.xlabel(\"K Number of Neighbors\")\n",
    "plt.ylabel(\"Accuracy Score\")\n",
    "plt.show() #plotting the variation of accuracy against number of neighbors"
   ]
  },
  {
   "cell_type": "markdown",
   "id": "0e482161",
   "metadata": {},
   "source": [
    "Now, we are trying to create more k neighbors classifier models using discrete data (created using dummy variables) as the input to observe the variation in accuracy with different input factors"
   ]
  },
  {
   "cell_type": "markdown",
   "id": "6de368e6",
   "metadata": {},
   "source": [
    "The first model uses only sex, chest pain type, resting ECG, and excercise angina"
   ]
  },
  {
   "cell_type": "code",
   "execution_count": 521,
   "id": "57750617",
   "metadata": {},
   "outputs": [
    {
     "name": "stdout",
     "output_type": "stream",
     "text": [
      "sklearn's accuracy score for diagnosis: 0.7494553376906318\n"
     ]
    }
   ],
   "source": [
    "X = df[['Age', 'Sex_F', 'Sex_M', 'CPT_ASY', 'CPT_ATA', 'CPT_NAP', 'CPT_TA', 'RECG_LVH', 'RECG_Normal', 'RECG_ST', 'EA_N', 'EA_Y']]\n",
    "Y = idealOutput\n",
    "\n",
    "x_train, x_test, y_train, y_test = train_test_split(X, Y, test_size=0.5, random_state=42) \n",
    "\n",
    "model = KNeighborsClassifier()\n",
    "\n",
    "model.fit(x_train, y_train) \n",
    "\n",
    "predictions = model.predict(x_test) \n",
    "\n",
    "print(\"sklearn's accuracy score for diagnosis:\", accuracy_score(y_test, predictions)) "
   ]
  },
  {
   "cell_type": "code",
   "execution_count": 522,
   "id": "0ea2e118",
   "metadata": {},
   "outputs": [
    {
     "name": "stdout",
     "output_type": "stream",
     "text": [
      "accuracy for first model: 0.7494553376906318\n"
     ]
    }
   ],
   "source": [
    "accuracy = accuracy_score(y_test, predictions)\n",
    "print('accuracy for first model:',accuracy)"
   ]
  },
  {
   "cell_type": "markdown",
   "id": "e167caa0",
   "metadata": {},
   "source": [
    "The second model uses only sex, chest pain type, resting ECG, excercise angina, and oldpeak"
   ]
  },
  {
   "cell_type": "code",
   "execution_count": 523,
   "id": "0b94e91e",
   "metadata": {},
   "outputs": [
    {
     "name": "stdout",
     "output_type": "stream",
     "text": [
      "sklearn's accuracy score for diagnosis: 0.8082788671023965\n"
     ]
    }
   ],
   "source": [
    "X = df[['Age', 'Sex_F', 'Sex_M', 'CPT_ASY', 'CPT_ATA', 'CPT_NAP', 'CPT_TA', 'RECG_LVH', 'RECG_Normal', 'RECG_ST', 'EA_N', 'EA_Y', 'ST_S_Down', 'ST_S_Flat', 'ST_S_Up']]\n",
    "Y = idealOutput\n",
    "\n",
    "x_train, x_test, y_train, y_test = train_test_split(X, Y, test_size=0.5, random_state=42) \n",
    "\n",
    "model = KNeighborsClassifier()\n",
    "\n",
    "model.fit(x_train, y_train) \n",
    "\n",
    "predictions = model.predict(x_test) \n",
    "\n",
    "print(\"sklearn's accuracy score for diagnosis:\", accuracy_score(y_test, predictions)) "
   ]
  },
  {
   "cell_type": "code",
   "execution_count": 524,
   "id": "072b7732",
   "metadata": {},
   "outputs": [
    {
     "name": "stdout",
     "output_type": "stream",
     "text": [
      "accuracy for second model: 0.8082788671023965\n"
     ]
    }
   ],
   "source": [
    "accuracy = accuracy_score(y_test, predictions)\n",
    "print('accuracy for second model:',accuracy)"
   ]
  },
  {
   "cell_type": "markdown",
   "id": "39d2d4ff",
   "metadata": {},
   "source": [
    "The third model uses only sex, chest pain type, resting ECG, excercise angina, oldpeak, and BP"
   ]
  },
  {
   "cell_type": "code",
   "execution_count": 525,
   "id": "66fe0d5c",
   "metadata": {},
   "outputs": [
    {
     "name": "stdout",
     "output_type": "stream",
     "text": [
      "sklearn's accuracy score for diagnosis: 0.8104575163398693\n"
     ]
    }
   ],
   "source": [
    "X = df[['Age', 'Sex_F', 'Sex_M', 'CPT_ASY', 'CPT_ATA', 'CPT_NAP', 'CPT_TA', 'RECG_LVH', 'RECG_Normal', 'RECG_ST', 'EA_N', 'EA_Y', 'ST_S_Down', 'ST_S_Flat', 'ST_S_Up', 'normal_BP', 'atRisk_BP', 'high_BP']]\n",
    "Y = idealOutput\n",
    "\n",
    "x_train, x_test, y_train, y_test = train_test_split(X, Y, test_size=0.5, random_state=42) \n",
    "\n",
    "model = KNeighborsClassifier()\n",
    "\n",
    "model.fit(x_train, y_train) \n",
    "\n",
    "predictions = model.predict(x_test) \n",
    "\n",
    "print(\"sklearn's accuracy score for diagnosis:\", accuracy_score(y_test, predictions))"
   ]
  },
  {
   "cell_type": "code",
   "execution_count": 526,
   "id": "67b7289f",
   "metadata": {},
   "outputs": [
    {
     "name": "stdout",
     "output_type": "stream",
     "text": [
      "accuracy for third model: 0.8104575163398693\n"
     ]
    }
   ],
   "source": [
    "accuracy = accuracy_score(y_test, predictions)\n",
    "print('accuracy for third model:',accuracy)"
   ]
  },
  {
   "cell_type": "markdown",
   "id": "f54f9006",
   "metadata": {},
   "source": [
    "The fourth model uses only sex, chest pain type, resting ECG, excercise angina, oldpeak, BP and cholesterol"
   ]
  },
  {
   "cell_type": "code",
   "execution_count": 527,
   "id": "408e004c",
   "metadata": {},
   "outputs": [
    {
     "name": "stdout",
     "output_type": "stream",
     "text": [
      "sklearn's accuracy score for diagnosis: 0.8082788671023965\n"
     ]
    }
   ],
   "source": [
    "X = df[['Age', 'Sex_F', 'Sex_M', 'CPT_ASY', 'CPT_ATA', 'CPT_NAP', 'CPT_TA', 'RECG_LVH', 'RECG_Normal', 'RECG_ST', 'EA_N', 'EA_Y', 'ST_S_Down', 'ST_S_Flat', 'ST_S_Up', 'normal_BP', 'atRisk_BP', 'high_BP', 'desirable_cholesterol', 'borderline_cholesterol', 'high_cholesterol']]\n",
    "Y = idealOutput\n",
    "\n",
    "x_train, x_test, y_train, y_test = train_test_split(X, Y, test_size=0.5, random_state=42) \n",
    "\n",
    "model = KNeighborsClassifier()\n",
    "\n",
    "model.fit(x_train, y_train) \n",
    "\n",
    "predictions = model.predict(x_test) \n",
    "\n",
    "print(\"sklearn's accuracy score for diagnosis:\", accuracy_score(y_test, predictions))"
   ]
  },
  {
   "cell_type": "code",
   "execution_count": 528,
   "id": "a457c0bf",
   "metadata": {},
   "outputs": [
    {
     "name": "stdout",
     "output_type": "stream",
     "text": [
      "accuracy for fourth model: 0.8082788671023965\n"
     ]
    }
   ],
   "source": [
    "accuracy = accuracy_score(y_test, predictions)\n",
    "print('accuracy for fourth model:',accuracy)"
   ]
  },
  {
   "cell_type": "markdown",
   "id": "afe6df76",
   "metadata": {},
   "source": [
    "The last k neighbors model uses only discrete data as input"
   ]
  },
  {
   "cell_type": "code",
   "execution_count": 529,
   "id": "6a5b0a2e",
   "metadata": {},
   "outputs": [
    {
     "name": "stdout",
     "output_type": "stream",
     "text": [
      "sklearn's accuracy score for diagnosis: 0.8605664488017429\n"
     ]
    }
   ],
   "source": [
    "X = df[['Sex_F', 'Sex_M', 'CPT_ASY', 'CPT_ATA', 'CPT_NAP', 'CPT_TA', 'RECG_LVH', 'RECG_Normal', 'RECG_ST', 'EA_N', 'EA_Y', 'ST_S_Down', 'ST_S_Flat', 'ST_S_Up', 'normal_BP', 'atRisk_BP', 'high_BP', 'desirable_cholesterol', 'borderline_cholesterol', 'high_cholesterol']]\n",
    "Y = idealOutput\n",
    "\n",
    "x_train, x_test, y_train, y_test = train_test_split(X, Y, test_size=0.5, random_state=42) \n",
    "\n",
    "model = KNeighborsClassifier()\n",
    "\n",
    "model.fit(x_train, y_train) \n",
    "\n",
    "predictions = model.predict(x_test) \n",
    "\n",
    "print(\"sklearn's accuracy score for diagnosis:\", accuracy_score(y_test, predictions))"
   ]
  },
  {
   "cell_type": "code",
   "execution_count": 530,
   "id": "c6afc1d1",
   "metadata": {},
   "outputs": [
    {
     "name": "stdout",
     "output_type": "stream",
     "text": [
      "accuracy for last model: 0.8605664488017429\n"
     ]
    }
   ],
   "source": [
    "accuracy = accuracy_score(y_test, predictions)\n",
    "print('accuracy for last model:',accuracy)"
   ]
  },
  {
   "cell_type": "markdown",
   "id": "1faae787",
   "metadata": {},
   "source": [
    "Since the last model has the highest accuracy (using only discrete data as input), we will explore it further"
   ]
  },
  {
   "cell_type": "code",
   "execution_count": 531,
   "id": "c1426ab8",
   "metadata": {},
   "outputs": [
    {
     "name": "stdout",
     "output_type": "stream",
     "text": [
      "Train Accuracy:  0.8736383442265795\n",
      "Test Accuracy:  0.8605664488017429\n"
     ]
    }
   ],
   "source": [
    "knn = KNeighborsClassifier()\n",
    "knn.fit(x_train, y_train)\n",
    "knn_pred_train = knn.predict(x_train)\n",
    "knn_pred_test = knn.predict(x_test)\n",
    "print(\"Train Accuracy: \", accuracy_score(y_train, knn_pred_train))\n",
    "print(\"Test Accuracy: \", accuracy_score(y_test, knn_pred_test))"
   ]
  },
  {
   "cell_type": "markdown",
   "id": "2594325f",
   "metadata": {},
   "source": [
    "check the accuracy scores for different values of k (due to the risk of overfitting)"
   ]
  },
  {
   "cell_type": "code",
   "execution_count": 532,
   "id": "ec22dcaa",
   "metadata": {},
   "outputs": [
    {
     "name": "stdout",
     "output_type": "stream",
     "text": [
      "accuracy score when k=1: 0.7908496732026143\n",
      "accuracy score when k=10: 0.8649237472766884\n",
      "accuracy score when k=100: 0.8583877995642701\n"
     ]
    }
   ],
   "source": [
    "# Model when k=1\n",
    "model1 = KNeighborsClassifier(1)\n",
    "model1.fit(x_train, y_train)\n",
    "predictions1 = model1.predict(x_test)\n",
    "\n",
    "# Model when k=10\n",
    "model10 = KNeighborsClassifier(10)\n",
    "model10.fit(x_train, y_train)\n",
    "predictions10 = model10.predict(x_test)\n",
    "\n",
    "# Model when k=100\n",
    "model100 = KNeighborsClassifier(100)\n",
    "model100.fit(x_train, y_train)\n",
    "predictions100 = model100.predict(x_test)\n",
    "\n",
    "print(\"accuracy score when k=1:\", accuracy_score(y_test, predictions1))\n",
    "print(\"accuracy score when k=10:\", accuracy_score(y_test, predictions10))\n",
    "print(\"accuracy score when k=100:\", accuracy_score(y_test, predictions100))"
   ]
  },
  {
   "cell_type": "code",
   "execution_count": 533,
   "id": "2cf992d4",
   "metadata": {},
   "outputs": [],
   "source": [
    "accuracy=[]\n",
    "for k in range(1,51):\n",
    "    model = KNeighborsClassifier(k)\n",
    "    model.fit(x_train, y_train)\n",
    "    predictions = model.predict(x_test)\n",
    "    accuracy.append(accuracy_score(predictions,y_test))"
   ]
  },
  {
   "cell_type": "code",
   "execution_count": 534,
   "id": "8336dfd0",
   "metadata": {},
   "outputs": [
    {
     "data": {
      "image/png": "[encoded data removed]",
      "text/plain": [
       "<Figure size 432x288 with 1 Axes>"
      ]
     },
     "metadata": {},
     "output_type": "display_data"
    }
   ],
   "source": [
    "plt.plot(range(1,51),accuracy)\n",
    "plt.xticks(range(1,51,2),range(1,51,2))\n",
    "plt.xlabel(\"K Number of Neighbors\")\n",
    "plt.ylabel(\"Accuracy Score\")\n",
    "plt.show() #plotting the variation of accuracy against number of neighbors"
   ]
  },
  {
   "cell_type": "markdown",
   "id": "d7ad700e",
   "metadata": {},
   "source": [
    "Based on the kNN models above, it seems evident that the accuracy of kNN classifiers seems highest with discrete inputs. Further, the accuracy of the classifier increases as we increase the number of input variables, so the entire observational dataset seems relevant to the prediction of heart disease. "
   ]
  },
  {
   "cell_type": "markdown",
   "id": "0d4bf527",
   "metadata": {},
   "source": [
    "Also, due to the risk of overfitting, there is not a direct proportionality between the value of k and the accuracy, as seen in the plot above."
   ]
  },
  {
   "cell_type": "markdown",
   "id": "b36ba821",
   "metadata": {},
   "source": [
    "_______________________________________________________________________________________________________"
   ]
  },
  {
   "cell_type": "markdown",
   "id": "fbed2d74",
   "metadata": {},
   "source": [
    "Decision tree classifier model"
   ]
  },
  {
   "cell_type": "markdown",
   "id": "bd0629e4",
   "metadata": {},
   "source": [
    "Now, we will use a Decision tree classifier model, first using only discrete data as input"
   ]
  },
  {
   "cell_type": "code",
   "execution_count": 535,
   "id": "83139d06",
   "metadata": {},
   "outputs": [
    {
     "name": "stdout",
     "output_type": "stream",
     "text": [
      "Train Accuracy:  0.8627450980392157\n",
      "Test Accuracy:  0.8583877995642701\n"
     ]
    }
   ],
   "source": [
    "X = df[['Sex_F', 'Sex_M', 'CPT_ASY', 'CPT_ATA', 'CPT_NAP', 'CPT_TA', 'RECG_LVH', 'RECG_Normal', 'RECG_ST', 'EA_N', 'EA_Y', 'ST_S_Down', 'ST_S_Flat', 'ST_S_Up', 'normal_BP', 'atRisk_BP', 'high_BP', 'desirable_cholesterol', 'borderline_cholesterol', 'high_cholesterol']]\n",
    "Y = idealOutput\n",
    "\n",
    "X_train, X_test, Y_train, Y_test = train_test_split(X, Y, test_size=0.5, random_state=42)\n",
    "\n",
    "model=tree.DecisionTreeClassifier(max_depth=5)\n",
    "\n",
    "model.fit(X_train,Y_train)\n",
    "\n",
    "dtree_pred_train = model.predict(X_train)\n",
    "dtree_pred_test = model.predict(X_test) \n",
    "print(\"Train Accuracy: \", accuracy_score(Y_train, dtree_pred_train))\n",
    "print(\"Test Accuracy: \", accuracy_score(Y_test, dtree_pred_test))"
   ]
  },
  {
   "cell_type": "markdown",
   "id": "8ce01553",
   "metadata": {},
   "source": [
    "Now we will test the performance with different max depth values (due to the risk of overfitting)"
   ]
  },
  {
   "cell_type": "code",
   "execution_count": 536,
   "id": "c9d3c887",
   "metadata": {},
   "outputs": [
    {
     "name": "stdout",
     "output_type": "stream",
     "text": [
      "the best accuracy is: 0.8387799564270153\n",
      "the best depth is:  3\n"
     ]
    }
   ],
   "source": [
    "incX = X\n",
    "incY = Y\n",
    "\n",
    "incX_train, incX_test, incY_train, incY_test = train_test_split(incX, incY, test_size = 0.5)\n",
    "\n",
    "best_depth = 1 #Keep track of depth that produces tree with highest accuracy\n",
    "best_accuracy = 0 #The best accuracy from a given tree\n",
    "for k in range(1,100):\n",
    "    \n",
    "    model=tree.DecisionTreeClassifier(max_depth=k)\n",
    "    \n",
    "    model.fit(incX_train, incY_train)\n",
    "    pred_test = model.predict(incX_test)\n",
    "    acc_test = accuracy_score(incY_test, pred_test)\n",
    "    \n",
    "    if acc_test > best_accuracy:\n",
    "        best_accuracy = acc_test\n",
    "        best_depth = k\n",
    "        \n",
    "print(\"the best accuracy is:\", best_accuracy)\n",
    "print(\"the best depth is: \", best_depth)"
   ]
  },
  {
   "cell_type": "markdown",
   "id": "3658c20a",
   "metadata": {},
   "source": [
    "Now, we will use Decision tree classifiers with the original continous data "
   ]
  },
  {
   "cell_type": "code",
   "execution_count": 537,
   "id": "e5550464",
   "metadata": {},
   "outputs": [
    {
     "name": "stdout",
     "output_type": "stream",
     "text": [
      "Train Accuracy:  0.8148148148148148\n",
      "Test Accuracy:  0.690631808278867\n"
     ]
    }
   ],
   "source": [
    "X = copydata[['Age', 'Cholesterol', 'RestingBP', 'MaxHR', 'FastingBS']]\n",
    "Y = idealOutput\n",
    "\n",
    "X_train, X_test, Y_train, Y_test = train_test_split(X, Y, test_size=0.5, random_state=42)\n",
    "\n",
    "model=tree.DecisionTreeClassifier(max_depth=5)\n",
    "\n",
    "model.fit(X_train,Y_train)\n",
    "\n",
    "dtree_pred_train = model.predict(X_train)\n",
    "dtree_pred_test = model.predict(X_test) \n",
    "print(\"Train Accuracy: \", accuracy_score(Y_train, dtree_pred_train))\n",
    "print(\"Test Accuracy: \", accuracy_score(Y_test, dtree_pred_test))"
   ]
  },
  {
   "cell_type": "markdown",
   "id": "03309699",
   "metadata": {},
   "source": [
    "Testing the performance with different max depth values "
   ]
  },
  {
   "cell_type": "code",
   "execution_count": 538,
   "id": "aeaa6dac",
   "metadata": {},
   "outputs": [
    {
     "name": "stdout",
     "output_type": "stream",
     "text": [
      "the best accuracy is: 0.7254901960784313\n",
      "the best depth is:  2\n"
     ]
    }
   ],
   "source": [
    "incX = X\n",
    "incY = Y\n",
    "\n",
    "incX_train, incX_test, incY_train, incY_test = train_test_split(incX, incY, test_size = 0.5)\n",
    "\n",
    "best_depth = 1 #Keep track of depth that produces tree with highest accuracy\n",
    "best_accuracy = 0 #The best accuracy from a given tree\n",
    "for k in range(1,100):\n",
    "    \n",
    "    model=tree.DecisionTreeClassifier(max_depth=k)\n",
    "    \n",
    "    model.fit(incX_train, incY_train)\n",
    "    pred_test = model.predict(incX_test)\n",
    "    acc_test = accuracy_score(incY_test, pred_test)\n",
    "    \n",
    "    if acc_test > best_accuracy:\n",
    "        best_accuracy = acc_test\n",
    "        best_depth = k\n",
    "        \n",
    "print(\"the best accuracy is:\", best_accuracy)\n",
    "print(\"the best depth is: \", best_depth)"
   ]
  },
  {
   "cell_type": "markdown",
   "id": "279a8f1e",
   "metadata": {},
   "source": [
    "The accuracy seems to have gone down after using continous instead of the discrete data obtained by creating dummy variables"
   ]
  },
  {
   "cell_type": "markdown",
   "id": "2fa868d9",
   "metadata": {},
   "source": [
    "Now we will try out a few different Decision tree classifier model inputs, just as was done with the K neighbors model, and see how our accuracy of diagnosing heart disease changes"
   ]
  },
  {
   "cell_type": "markdown",
   "id": "b2313859",
   "metadata": {},
   "source": [
    "The first model uses only sex, chest pain type, resting ECG, and excercise angina"
   ]
  },
  {
   "cell_type": "code",
   "execution_count": 539,
   "id": "6b40a043",
   "metadata": {},
   "outputs": [
    {
     "name": "stdout",
     "output_type": "stream",
     "text": [
      "Train Accuracy:  0.8344226579520697\n",
      "Test Accuracy:  0.7603485838779956\n"
     ]
    }
   ],
   "source": [
    "X = df[['Age', 'Sex_F', 'Sex_M', 'CPT_ASY', 'CPT_ATA', 'CPT_NAP', 'CPT_TA', 'RECG_LVH', 'RECG_Normal', 'RECG_ST', 'EA_N', 'EA_Y']]\n",
    "Y = idealOutput\n",
    "\n",
    "X_train, X_test, Y_train, Y_test = train_test_split(X, Y, test_size=0.5, random_state=42)\n",
    "\n",
    "model=tree.DecisionTreeClassifier(max_depth=5)\n",
    "\n",
    "model.fit(X_train,Y_train)\n",
    "\n",
    "dtree_pred_train = model.predict(X_train)\n",
    "dtree_pred_test = model.predict(X_test) \n",
    "print(\"Train Accuracy: \", accuracy_score(Y_train, dtree_pred_train))\n",
    "print(\"Test Accuracy: \", accuracy_score(Y_test, dtree_pred_test))"
   ]
  },
  {
   "cell_type": "markdown",
   "id": "9c354de9",
   "metadata": {},
   "source": [
    "The second model uses only sex, chest pain type, resting ECG, excercise angina, and oldpeak"
   ]
  },
  {
   "cell_type": "code",
   "execution_count": 540,
   "id": "c9c02fac",
   "metadata": {},
   "outputs": [
    {
     "name": "stdout",
     "output_type": "stream",
     "text": [
      "Train Accuracy:  0.8736383442265795\n",
      "Test Accuracy:  0.8235294117647058\n"
     ]
    }
   ],
   "source": [
    "X = df[['Age', 'Sex_F', 'Sex_M', 'CPT_ASY', 'CPT_ATA', 'CPT_NAP', 'CPT_TA', 'RECG_LVH', 'RECG_Normal', 'RECG_ST', 'EA_N', 'EA_Y', 'ST_S_Down', 'ST_S_Flat', 'ST_S_Up']]\n",
    "Y = idealOutput\n",
    "\n",
    "X_train, X_test, Y_train, Y_test = train_test_split(X, Y, test_size=0.5, random_state=42)\n",
    "\n",
    "model=tree.DecisionTreeClassifier(max_depth=5)\n",
    "\n",
    "model.fit(X_train,Y_train)\n",
    "\n",
    "dtree_pred_train = model.predict(X_train)\n",
    "dtree_pred_test = model.predict(X_test) \n",
    "print(\"Train Accuracy: \", accuracy_score(Y_train, dtree_pred_train))\n",
    "print(\"Test Accuracy: \", accuracy_score(Y_test, dtree_pred_test))"
   ]
  },
  {
   "cell_type": "markdown",
   "id": "60cce876",
   "metadata": {},
   "source": [
    "The third model uses only sex, chest pain type, resting ECG, excercise angina, oldpeak, and BP"
   ]
  },
  {
   "cell_type": "code",
   "execution_count": 541,
   "id": "0c26e889",
   "metadata": {},
   "outputs": [
    {
     "name": "stdout",
     "output_type": "stream",
     "text": [
      "Train Accuracy:  0.8736383442265795\n",
      "Test Accuracy:  0.8300653594771242\n"
     ]
    }
   ],
   "source": [
    "X = df[['Age', 'Sex_F', 'Sex_M', 'CPT_ASY', 'CPT_ATA', 'CPT_NAP', 'CPT_TA', 'RECG_LVH', 'RECG_Normal', 'RECG_ST', 'EA_N', 'EA_Y', 'ST_S_Down', 'ST_S_Flat', 'ST_S_Up', 'normal_BP', 'atRisk_BP', 'high_BP']]\n",
    "Y = idealOutput\n",
    "\n",
    "X_train, X_test, Y_train, Y_test = train_test_split(X, Y, test_size=0.5, random_state=42)\n",
    "\n",
    "model=tree.DecisionTreeClassifier(max_depth=5)\n",
    "\n",
    "model.fit(X_train,Y_train)\n",
    "\n",
    "dtree_pred_train = model.predict(X_train)\n",
    "dtree_pred_test = model.predict(X_test) \n",
    "print(\"Train Accuracy: \", accuracy_score(Y_train, dtree_pred_train))\n",
    "print(\"Test Accuracy: \", accuracy_score(Y_test, dtree_pred_test))"
   ]
  },
  {
   "cell_type": "markdown",
   "id": "91ec4654",
   "metadata": {},
   "source": [
    "The fourth model uses sex, chest pain type, resting ECG, excercise angina, oldpeak, BP and cholesterol"
   ]
  },
  {
   "cell_type": "code",
   "execution_count": 542,
   "id": "7e1c6d07",
   "metadata": {},
   "outputs": [
    {
     "name": "stdout",
     "output_type": "stream",
     "text": [
      "Train Accuracy:  0.8758169934640523\n",
      "Test Accuracy:  0.8191721132897604\n"
     ]
    }
   ],
   "source": [
    "X = df[['Age', 'Sex_F', 'Sex_M', 'CPT_ASY', 'CPT_ATA', 'CPT_NAP', 'CPT_TA', 'RECG_LVH', 'RECG_Normal', 'RECG_ST', 'EA_N', 'EA_Y', 'ST_S_Down', 'ST_S_Flat', 'ST_S_Up', 'normal_BP', 'atRisk_BP', 'high_BP', 'desirable_cholesterol', 'borderline_cholesterol', 'high_cholesterol']]\n",
    "Y = idealOutput\n",
    "\n",
    "X_train, X_test, Y_train, Y_test = train_test_split(X, Y, test_size=0.5, random_state=42)\n",
    "\n",
    "model=tree.DecisionTreeClassifier(max_depth=5)\n",
    "\n",
    "model.fit(X_train,Y_train)\n",
    "\n",
    "dtree_pred_train = model.predict(X_train)\n",
    "dtree_pred_test = model.predict(X_test) \n",
    "print(\"Train Accuracy: \", accuracy_score(Y_train, dtree_pred_train))\n",
    "print(\"Test Accuracy: \", accuracy_score(Y_test, dtree_pred_test))"
   ]
  },
  {
   "cell_type": "markdown",
   "id": "9c22088a",
   "metadata": {},
   "source": [
    "Based on the Decision tree classifier, it is evident that the classifier has a higher accuracy with discrete data as input, as compared to using the original continous data. Further, similar to the pattern in accuracy fluctuation of the kNN classifier, the accuracy rate of the Decision tree increases with the addition of more input variables, so the data set seems to be a viable basis for predicting the existence of heart disease."
   ]
  },
  {
   "cell_type": "markdown",
   "id": "cf9b254f",
   "metadata": {},
   "source": [
    "_________________________________________________"
   ]
  },
  {
   "cell_type": "markdown",
   "id": "2134bba2",
   "metadata": {},
   "source": [
    "CONCLUSION: Based on our visualisations and our machine learning models — KNN Classifier and Decision Tree Model — we can conclude that certain factors contribute heavily to predicting heart Disease.\n",
    "\n",
    "As explained before, the correlation heat map based on the opacity of colours highlights connections such as Age and Maximum Heart Rate being good markers for predictions. Another handy visualisation is the Age and Frequency Histogram filtered based on heart disease. This helps to deduce that most subjects with heart disease are in there middle to late years. Hence, the visualisations provide a unique and easy-to-decipher means of supporting  models for heart disease.\n",
    "\n",
    "The meat of the project, however, are the machine learning models which based on the input factors accurately predict heart disease in subjects. We used two distinct models: 1) KNN Classifiers and 2) Decision Tree Classifier. Both of these models give high accuracy scores, and indicate that the models were a success.\n",
    "\n",
    "On the whole, the synergy between the visualisations and the models gives a thorough medium to predict heart disease."
   ]
  }
 ],
 "metadata": {
  "kernelspec": {
   "display_name": "Python 3",
   "language": "python",
   "name": "python3"
  },
  "language_info": {
   "codemirror_mode": {
    "name": "ipython",
    "version": 3
   },
   "file_extension": ".py",
   "mimetype": "text/x-python",
   "name": "python",
   "nbconvert_exporter": "python",
   "pygments_lexer": "ipython3",
   "version": "3.8.8"
  }
 },
 "nbformat": 4,
 "nbformat_minor": 5
}
